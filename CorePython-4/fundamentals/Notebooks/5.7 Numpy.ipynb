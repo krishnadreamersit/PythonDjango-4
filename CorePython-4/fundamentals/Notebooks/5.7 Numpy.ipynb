{
 "cells": [
  {
   "cell_type": "markdown",
   "id": "06f28b58",
   "metadata": {},
   "source": [
    "### Array Basics"
   ]
  },
  {
   "cell_type": "code",
   "execution_count": 7,
   "id": "cbfe9ee7",
   "metadata": {},
   "outputs": [],
   "source": [
    "from array import array\n",
    "import sys"
   ]
  },
  {
   "cell_type": "code",
   "execution_count": 14,
   "id": "e3fb5d13",
   "metadata": {},
   "outputs": [
    {
     "name": "stdout",
     "output_type": "stream",
     "text": [
      "array('i', [4, 5, 6, 7, 8])\n",
      "<class 'array.array'>\n",
      "1637407539664\n",
      "100\n",
      "True\n",
      "5\n",
      "4\n",
      "8\n",
      "30\n",
      "4\n",
      "5\n",
      "6\n",
      "7\n",
      "8\n",
      "8\n",
      "4\n"
     ]
    }
   ],
   "source": [
    "arr1 = array('i', [4,5,6,7,8])\n",
    "print(arr1)\n",
    "print(type(arr1))\n",
    "print(id(arr1))\n",
    "print(sys.getsizeof(arr1))\n",
    "print(isinstance(arr1, array))\n",
    "print(len(arr1))  # 5 (0-4)\n",
    "print(min(arr1))\n",
    "print(max(arr1))\n",
    "print(sum(arr1))\n",
    "\n",
    "# Index - Return Value\n",
    "print(arr1[0])\n",
    "print(arr1[1])\n",
    "print(arr1[2])\n",
    "print(arr1[3])\n",
    "print(arr1[4])\n",
    "# print(arr1[5]) # IndexError: array index out of range\n",
    "\n",
    "print(arr1[-1])\n",
    "print(arr1[-5])"
   ]
  },
  {
   "cell_type": "code",
   "execution_count": 24,
   "id": "ea7190d3",
   "metadata": {},
   "outputs": [
    {
     "name": "stdout",
     "output_type": "stream",
     "text": [
      "array('i', [4, 5, 6, 7, 8])\n",
      "array('i', [4, 5, 6, 7, 8])\n",
      "array('i', [4, 5, 6, 7, 8])\n",
      "array('i', [4, 5, 6, 7, 8])\n",
      "array('i', [6])\n",
      "array('i', [6, 7])\n",
      "array('i', [6, 7, 8])\n",
      "array('i', [4, 5, 6, 7, 8])\n",
      "array('i', [4, 6, 8])\n"
     ]
    }
   ],
   "source": [
    "# Slicing - Return Array\n",
    "arr1 = array('i', [4,5,6,7,8])\n",
    "print(arr1[0:5]) # 0-4\n",
    "print(arr1[0:])\n",
    "print(arr1[:5])\n",
    "print(arr1[:])\n",
    "print(arr1[2:3])\n",
    "print(arr1[2:4])\n",
    "print(arr1[2:])\n",
    "print(arr1[0:5:1])  # Step by 1\n",
    "print(arr1[0:5:2])  # Step by 2"
   ]
  },
  {
   "cell_type": "code",
   "execution_count": null,
   "id": "0c8981d3",
   "metadata": {},
   "outputs": [],
   "source": [
    "# Array Functions\n",
    "\"\"\"\n",
    "Type code   C Type             Minimum size in bytes\n",
    " 'b'         signed integer     1\n",
    " 'B'         unsigned integer   1\n",
    " 'u'         Unicode character  2\n",
    " 'h'         signed integer     2\n",
    " 'H'         unsigned integer   2\n",
    " 'i'         signed integer     2\n",
    " 'I'         unsigned integer   2\n",
    " 'l'         signed integer     4\n",
    " 'L'         unsigned integer   4\n",
    " 'q'         signed integer     8\n",
    " 'Q'         unsigned integer   8\n",
    " 'f'         floating point     4\n",
    " 'd'         floating point     8\n",
    " \n",
    "append() -- append a new item to the end of the array\n",
    "buffer_info() -- return information giving the current memory info\n",
    "byteswap() -- byteswap all the items of the array\n",
    "count() -- return number of occurrences of an object\n",
    "extend() -- extend array by appending multiple elements from an iterable\n",
    "fromfile() -- read items from a file object\n",
    "fromlist() -- append items from the list\n",
    "frombytes() -- append items from the string\n",
    "index() -- return index of first occurrence of an object\n",
    "insert() -- insert a new item into the array at a provided position\n",
    "pop() -- remove and return item (default last)\n",
    "remove() -- remove first occurrence of an object\n",
    "reverse() -- reverse the order of the items in the array\n",
    "tofile() -- write all items to a file object\n",
    "tolist() -- return the array converted to an ordinary list\n",
    "tobytes() -- return the array converted to a string\n",
    "\n",
    "Attributes:\n",
    "typecode -- the typecode character used to create the array\n",
    "itemsize -- the length in bytes of one array item\n",
    "\"\"\""
   ]
  },
  {
   "cell_type": "code",
   "execution_count": 26,
   "id": "4c085d38",
   "metadata": {},
   "outputs": [],
   "source": [
    "# Case Studies-1D\n",
    "# Population of Ktm City\n",
    "    # age (today - date of birth ) -> age\n",
    "    # all_ages = array('i', [1,.....,110])\n",
    "    # create an array of integer of 100000 random numbers of range (0, 120)\n",
    "        # len\n",
    "        # max\n",
    "        # min\n",
    "        # average\n",
    "        # sum\n",
    "        # range (0-10)"
   ]
  },
  {
   "cell_type": "markdown",
   "id": "d0c7548c",
   "metadata": {},
   "source": [
    "### Numpy"
   ]
  },
  {
   "cell_type": "code",
   "execution_count": 3,
   "id": "ccc7a9b1",
   "metadata": {},
   "outputs": [],
   "source": [
    "# Introduction to Numpy Array\n",
    "# Differenceces of Array and Numpy Array\n",
    "    # Multi-dimentional array\n",
    "    # Scientific computing\n",
    "# pip install numpy"
   ]
  },
  {
   "cell_type": "code",
   "execution_count": 10,
   "id": "823b7740",
   "metadata": {},
   "outputs": [
    {
     "name": "stdout",
     "output_type": "stream",
     "text": [
      "[4 5 6 7 8]\n",
      "<class 'numpy.ndarray'>\n",
      "5\n",
      "(5,)\n",
      "2\n",
      "(2, 5)\n"
     ]
    }
   ],
   "source": [
    "import numpy\n",
    "arr2 = numpy.array([4, 5, 6, 7, 8])\n",
    "print(arr2)\n",
    "print(type(arr2))\n",
    "print(len(arr2))\n",
    "print(arr2.shape)\n",
    "\n",
    "arr2 = numpy.array([[2,3,4,5,6],[7,8,4,3,2]])\n",
    "print(len(arr2))\n",
    "print(arr2.shape)"
   ]
  },
  {
   "cell_type": "code",
   "execution_count": null,
   "id": "c2112347",
   "metadata": {},
   "outputs": [],
   "source": []
  }
 ],
 "metadata": {
  "kernelspec": {
   "display_name": "Python 3 (ipykernel)",
   "language": "python",
   "name": "python3"
  },
  "language_info": {
   "codemirror_mode": {
    "name": "ipython",
    "version": 3
   },
   "file_extension": ".py",
   "mimetype": "text/x-python",
   "name": "python",
   "nbconvert_exporter": "python",
   "pygments_lexer": "ipython3",
   "version": "3.10.2"
  }
 },
 "nbformat": 4,
 "nbformat_minor": 5
}
