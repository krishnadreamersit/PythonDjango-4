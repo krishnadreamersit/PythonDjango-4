{
 "cells": [
  {
   "cell_type": "markdown",
   "id": "06f28b58",
   "metadata": {},
   "source": [
    "### Array Basics"
   ]
  },
  {
   "cell_type": "code",
   "execution_count": 7,
   "id": "cbfe9ee7",
   "metadata": {},
   "outputs": [],
   "source": [
    "from array import array\n",
    "import sys"
   ]
  },
  {
   "cell_type": "code",
   "execution_count": 14,
   "id": "e3fb5d13",
   "metadata": {},
   "outputs": [
    {
     "name": "stdout",
     "output_type": "stream",
     "text": [
      "array('i', [4, 5, 6, 7, 8])\n",
      "<class 'array.array'>\n",
      "1637407539664\n",
      "100\n",
      "True\n",
      "5\n",
      "4\n",
      "8\n",
      "30\n",
      "4\n",
      "5\n",
      "6\n",
      "7\n",
      "8\n",
      "8\n",
      "4\n"
     ]
    }
   ],
   "source": [
    "arr1 = array('i', [4,5,6,7,8])\n",
    "print(arr1)\n",
    "print(type(arr1))\n",
    "print(id(arr1))\n",
    "print(sys.getsizeof(arr1))\n",
    "print(isinstance(arr1, array))\n",
    "print(len(arr1))  # 5 (0-4)\n",
    "print(min(arr1))\n",
    "print(max(arr1))\n",
    "print(sum(arr1))\n",
    "\n",
    "# Index - Return Value\n",
    "print(arr1[0])\n",
    "print(arr1[1])\n",
    "print(arr1[2])\n",
    "print(arr1[3])\n",
    "print(arr1[4])\n",
    "# print(arr1[5]) # IndexError: array index out of range\n",
    "\n",
    "print(arr1[-1])\n",
    "print(arr1[-5])"
   ]
  },
  {
   "cell_type": "code",
   "execution_count": 24,
   "id": "ea7190d3",
   "metadata": {},
   "outputs": [
    {
     "name": "stdout",
     "output_type": "stream",
     "text": [
      "array('i', [4, 5, 6, 7, 8])\n",
      "array('i', [4, 5, 6, 7, 8])\n",
      "array('i', [4, 5, 6, 7, 8])\n",
      "array('i', [4, 5, 6, 7, 8])\n",
      "array('i', [6])\n",
      "array('i', [6, 7])\n",
      "array('i', [6, 7, 8])\n",
      "array('i', [4, 5, 6, 7, 8])\n",
      "array('i', [4, 6, 8])\n"
     ]
    }
   ],
   "source": [
    "# Slicing - Return Array\n",
    "arr1 = array('i', [4,5,6,7,8])\n",
    "print(arr1[0:5]) # 0-4\n",
    "print(arr1[0:])\n",
    "print(arr1[:5])\n",
    "print(arr1[:])\n",
    "print(arr1[2:3])\n",
    "print(arr1[2:4])\n",
    "print(arr1[2:])\n",
    "print(arr1[0:5:1])  # Step by 1\n",
    "print(arr1[0:5:2])  # Step by 2"
   ]
  },
  {
   "cell_type": "code",
   "execution_count": null,
   "id": "0c8981d3",
   "metadata": {},
   "outputs": [],
   "source": [
    "# Array Functions\n",
    "\"\"\"\n",
    "Type code   C Type             Minimum size in bytes\n",
    " 'b'         signed integer     1\n",
    " 'B'         unsigned integer   1\n",
    " 'u'         Unicode character  2\n",
    " 'h'         signed integer     2\n",
    " 'H'         unsigned integer   2\n",
    " 'i'         signed integer     2\n",
    " 'I'         unsigned integer   2\n",
    " 'l'         signed integer     4\n",
    " 'L'         unsigned integer   4\n",
    " 'q'         signed integer     8\n",
    " 'Q'         unsigned integer   8\n",
    " 'f'         floating point     4\n",
    " 'd'         floating point     8\n",
    " \n",
    "append() -- append a new item to the end of the array\n",
    "buffer_info() -- return information giving the current memory info\n",
    "byteswap() -- byteswap all the items of the array\n",
    "count() -- return number of occurrences of an object\n",
    "extend() -- extend array by appending multiple elements from an iterable\n",
    "fromfile() -- read items from a file object\n",
    "fromlist() -- append items from the list\n",
    "frombytes() -- append items from the string\n",
    "index() -- return index of first occurrence of an object\n",
    "insert() -- insert a new item into the array at a provided position\n",
    "pop() -- remove and return item (default last)\n",
    "remove() -- remove first occurrence of an object\n",
    "reverse() -- reverse the order of the items in the array\n",
    "tofile() -- write all items to a file object\n",
    "tolist() -- return the array converted to an ordinary list\n",
    "tobytes() -- return the array converted to a string\n",
    "\n",
    "Attributes:\n",
    "typecode -- the typecode character used to create the array\n",
    "itemsize -- the length in bytes of one array item\n",
    "\"\"\""
   ]
  },
  {
   "cell_type": "code",
   "execution_count": 26,
   "id": "4c085d38",
   "metadata": {},
   "outputs": [],
   "source": [
    "# Case Studies-1D\n",
    "# Population of Ktm City\n",
    "    # age (today - date of birth ) -> age\n",
    "    # all_ages = array('i', [1,.....,110])\n",
    "    # create an array of integer of 100000 random numbers of range (0, 120)\n",
    "        # len\n",
    "        # max\n",
    "        # min\n",
    "        # average\n",
    "        # sum\n",
    "        # range (0-10)"
   ]
  },
  {
   "cell_type": "markdown",
   "id": "d0c7548c",
   "metadata": {},
   "source": [
    "### Numpy"
   ]
  },
  {
   "cell_type": "code",
   "execution_count": 3,
   "id": "ccc7a9b1",
   "metadata": {},
   "outputs": [],
   "source": [
    "# Introduction to Numpy Array\n",
    "# Differenceces of Array and Numpy Array\n",
    "    # Multi-dimentional array\n",
    "    # Scientific computing\n",
    "# pip install numpy"
   ]
  },
  {
   "cell_type": "code",
   "execution_count": 7,
   "id": "823b7740",
   "metadata": {},
   "outputs": [
    {
     "name": "stdout",
     "output_type": "stream",
     "text": [
      "[4 5 6 7 8]\n",
      "<class 'numpy.ndarray'>\n",
      "5\n",
      "(5,)\n",
      "2\n",
      "(2, 5)\n"
     ]
    }
   ],
   "source": [
    "import numpy\n",
    "\n",
    "arr2 = numpy.array([4, 5, 6, 7, 8]) # 1D Array\n",
    "print(arr2)\n",
    "print(type(arr2))\n",
    "print(len(arr2))\n",
    "print(arr2.shape)\n",
    "\n",
    "arr2 = numpy.array([[2,3,4,5,6],[7,8,4,3,2]]) # 2D Array\n",
    "print(len(arr2))\n",
    "print(arr2.shape)"
   ]
  },
  {
   "cell_type": "code",
   "execution_count": 7,
   "id": "32ead627",
   "metadata": {},
   "outputs": [
    {
     "name": "stdout",
     "output_type": "stream",
     "text": [
      "int32\n",
      "<U3\n",
      "float64\n"
     ]
    }
   ],
   "source": [
    "arr2 = numpy.array([2,3,4,5,6])\n",
    "print(arr2.dtype) # Data type\n",
    "\n",
    "arr2 = numpy.array([\"Ktm\",\"Lat\",\"Bhk\",\"Mkp\",\"Cht\"])\n",
    "print(arr2.dtype) # Data type\n",
    "\n",
    "arr2 = numpy.array([1.23, 4.56])\n",
    "print(arr2.dtype) # Data type"
   ]
  },
  {
   "cell_type": "code",
   "execution_count": 11,
   "id": "e243df51",
   "metadata": {},
   "outputs": [
    {
     "name": "stdout",
     "output_type": "stream",
     "text": [
      "[2 3 4 5 6]\n",
      "[2 3 4 5 6]\n",
      "2496185759568\n",
      "2496185759568\n",
      "2496185759568\n",
      "2496185760144\n"
     ]
    }
   ],
   "source": [
    "# Copy array\n",
    "arr2 = numpy.array([2,3,4,5,6])\n",
    "arr3 = arr2 # by reference\n",
    "\n",
    "print(arr2)\n",
    "print(arr3)\n",
    "\n",
    "print(id(arr2))\n",
    "print(id(arr3))\n",
    "\n",
    "arr4 = arr2.copy() # Copy by value\n",
    "print(id(arr2))\n",
    "print(id(arr4))\n"
   ]
  },
  {
   "cell_type": "code",
   "execution_count": 13,
   "id": "11582ff0",
   "metadata": {},
   "outputs": [
    {
     "name": "stdout",
     "output_type": "stream",
     "text": [
      "(5,)\n"
     ]
    }
   ],
   "source": [
    "# Shape\n",
    "arr2 = numpy.array([2,3,4,5,6,7])\n",
    "print(arr2.shape) #  (5,) - Columns"
   ]
  },
  {
   "cell_type": "code",
   "execution_count": 17,
   "id": "4273f9d8",
   "metadata": {},
   "outputs": [
    {
     "name": "stdout",
     "output_type": "stream",
     "text": [
      "[[2 3]\n",
      " [4 5]\n",
      " [6 7]]\n",
      "\n",
      "(3, 2)\n"
     ]
    }
   ],
   "source": [
    "# Reshape\n",
    "arr2 = numpy.array([2,3,4,5,6,7])\n",
    "arr3 = arr2.reshape(3,2)\n",
    "print(arr3)\n",
    "print()\n",
    "print(arr3.shape) # (3, 2)"
   ]
  },
  {
   "cell_type": "code",
   "execution_count": 18,
   "id": "b3ddfffa",
   "metadata": {},
   "outputs": [
    {
     "name": "stdout",
     "output_type": "stream",
     "text": [
      "2\n",
      "3\n",
      "4\n",
      "5\n",
      "6\n",
      "7\n"
     ]
    }
   ],
   "source": [
    "# Iteration in Numpy\n",
    "arr2 = numpy.array([2,3,4,5,6,7])\n",
    "for item in arr2:\n",
    "    print(item)"
   ]
  },
  {
   "cell_type": "code",
   "execution_count": null,
   "id": "8303dd05",
   "metadata": {},
   "outputs": [],
   "source": [
    "# Task- Numpy Array\n",
    "    # Join, Split, Search, Sort, Filter"
   ]
  },
  {
   "cell_type": "code",
   "execution_count": 13,
   "id": "e2d3cbf7",
   "metadata": {},
   "outputs": [
    {
     "name": "stdout",
     "output_type": "stream",
     "text": [
      "[1 2 3 4 5 6]\n",
      "[[1 2 5 6]\n",
      " [3 4 7 8]]\n"
     ]
    }
   ],
   "source": [
    "# Join\n",
    "import numpy as np\n",
    "\n",
    "# 1D\n",
    "arr1 = np.array([1, 2, 3])\n",
    "arr2 = np.array([4, 5, 6])\n",
    "arr3 = np.concatenate((arr1, arr2))\n",
    "print(arr3)\n",
    "\n",
    "# 2D\n",
    "import numpy as np\n",
    "\n",
    "arr1 = np.array([[1, 2], [3, 4]])\n",
    "arr2 = np.array([[5, 6], [7, 8]])\n",
    "arr3 = np.concatenate((arr1, arr2), axis=1)\n",
    "print(arr3)\n",
    "\n"
   ]
  },
  {
   "cell_type": "code",
   "execution_count": 17,
   "id": "f262919d",
   "metadata": {},
   "outputs": [
    {
     "name": "stdout",
     "output_type": "stream",
     "text": [
      "[array([1, 2]), array([3, 4]), array([5]), array([6])]\n"
     ]
    }
   ],
   "source": [
    "# Split\n",
    "arr1 = np.array([1, 2, 3, 4, 5, 6])\n",
    "arr2 = np.array_split(arr1, 4)\n",
    "print(arr2)\n"
   ]
  },
  {
   "cell_type": "code",
   "execution_count": 19,
   "id": "5ee46670",
   "metadata": {},
   "outputs": [
    {
     "name": "stdout",
     "output_type": "stream",
     "text": [
      "(array([3, 5, 6], dtype=int64),)\n",
      "(array([], dtype=int64),)\n"
     ]
    }
   ],
   "source": [
    "# Search\n",
    "arr1 = np.array([1, 2, 3, 4, 5, 4, 4])\n",
    "result = np.where(arr1 == 4)\n",
    "print(result)\n",
    "\n",
    "result = np.where(arr1 == 10)\n",
    "print(result)\n"
   ]
  },
  {
   "cell_type": "code",
   "execution_count": 20,
   "id": "d07581c8",
   "metadata": {},
   "outputs": [
    {
     "name": "stdout",
     "output_type": "stream",
     "text": [
      "[0 1 2 3]\n"
     ]
    }
   ],
   "source": [
    "# Sort\n",
    "arr1 = np.array([3, 2, 0, 1])\n",
    "print(np.sort(arr1))"
   ]
  },
  {
   "cell_type": "code",
   "execution_count": 22,
   "id": "0a575f33",
   "metadata": {},
   "outputs": [
    {
     "name": "stdout",
     "output_type": "stream",
     "text": [
      "[False False  True  True]\n"
     ]
    }
   ],
   "source": [
    "# Filter\n",
    "arr1 = np.array([41, 42, 43, 44])\n",
    "arr2 = arr1 > 42\n",
    "print(arr2)"
   ]
  },
  {
   "cell_type": "markdown",
   "id": "11378e3e",
   "metadata": {},
   "source": [
    "### Random Number"
   ]
  },
  {
   "cell_type": "code",
   "execution_count": 82,
   "id": "2368a8e7",
   "metadata": {},
   "outputs": [
    {
     "name": "stdout",
     "output_type": "stream",
     "text": [
      "28\n",
      "0.06944440626693626\n",
      "[5 3 7 7 5 5 5 7 3 7 7 7 7 7 5 7 5 7 3 5 7 7 5 7 5 7 7 3 7 7 5 7 7 7 5 5 7\n",
      " 3 3 7 7 7 7 5 5 7 7 5 7 5 7 5 5 7 7 7 5 7 7 5 5 5 7 7 7 7 7 7 7 5 7 7 7 3\n",
      " 5 7 7 7 5 5 7 7 7 7 7 7 5 5 7 7 5 7 3 7 7 7 3 7 3 5]\n"
     ]
    }
   ],
   "source": [
    "from numpy import random\n",
    "n = random.randint(100) # int\n",
    "print(n)\n",
    "\n",
    "n = random.rand() # float\n",
    "print(n)\n",
    "# print(int(n*1000))\n",
    "\n",
    "n = random.choice([3, 5, 7, 9, ], p=[0.1, 0.3, 0.6, 0.0], size=(200))\n",
    "print(n)\n"
   ]
  },
  {
   "cell_type": "markdown",
   "id": "defd7868",
   "metadata": {},
   "source": [
    "### Shuffling Arrays"
   ]
  },
  {
   "cell_type": "code",
   "execution_count": 29,
   "id": "4c4d05cb",
   "metadata": {},
   "outputs": [
    {
     "name": "stdout",
     "output_type": "stream",
     "text": [
      "[1 2 3 4 5]\n",
      "[2 4 1 5 3]\n"
     ]
    }
   ],
   "source": [
    "arr1 = np.array([1, 2, 3, 4, 5])\n",
    "print(arr1)\n",
    "random.shuffle(arr1)\n",
    "print(arr1)"
   ]
  },
  {
   "cell_type": "markdown",
   "id": "72017768",
   "metadata": {},
   "source": [
    "### Visualize using Seaborn"
   ]
  },
  {
   "cell_type": "code",
   "execution_count": 30,
   "id": "613eaa6e",
   "metadata": {},
   "outputs": [
    {
     "name": "stderr",
     "output_type": "stream",
     "text": [
      "d:\\python\\pythondjango-4\\corepython-4\\venv\\lib\\site-packages\\seaborn\\distributions.py:2619: FutureWarning: `distplot` is a deprecated function and will be removed in a future version. Please adapt your code to use either `displot` (a figure-level function with similar flexibility) or `histplot` (an axes-level function for histograms).\n",
      "  warnings.warn(msg, FutureWarning)\n"
     ]
    },
    {
     "data": {
      "image/png": "[encoded data removed]",
      "text/plain": [
       "<Figure size 432x288 with 1 Axes>"
      ]
     },
     "metadata": {
      "needs_background": "light"
     },
     "output_type": "display_data"
    }
   ],
   "source": [
    "# pip install seaborn\n",
    "# pip install matplotlib\n",
    "\n",
    "import matplotlib.pyplot as plt\n",
    "import seaborn as sns\n",
    "\n",
    "sns.distplot([0, 1, 2, 3, 4, 5])\n",
    "plt.show()"
   ]
  },
  {
   "cell_type": "code",
   "execution_count": 31,
   "id": "b83d9642",
   "metadata": {},
   "outputs": [
    {
     "name": "stderr",
     "output_type": "stream",
     "text": [
      "d:\\python\\pythondjango-4\\corepython-4\\venv\\lib\\site-packages\\seaborn\\distributions.py:2619: FutureWarning: `distplot` is a deprecated function and will be removed in a future version. Please adapt your code to use either `displot` (a figure-level function with similar flexibility) or `kdeplot` (an axes-level function for kernel density plots).\n",
      "  warnings.warn(msg, FutureWarning)\n"
     ]
    },
    {
     "data": {
      "image/png": "[encoded data removed]",
      "text/plain": [
       "<Figure size 432x288 with 1 Axes>"
      ]
     },
     "metadata": {
      "needs_background": "light"
     },
     "output_type": "display_data"
    }
   ],
   "source": [
    "from numpy import random\n",
    "import matplotlib.pyplot as plt\n",
    "import seaborn as sns\n",
    "\n",
    "sns.distplot(random.normal(size=1000), hist=False)\n",
    "\n",
    "plt.show()"
   ]
  },
  {
   "cell_type": "markdown",
   "id": "253f7a54",
   "metadata": {},
   "source": [
    "### Numpy Universal Functions"
   ]
  },
  {
   "cell_type": "code",
   "execution_count": null,
   "id": "1086a8bc",
   "metadata": {},
   "outputs": [],
   "source": []
  }
 ],
 "metadata": {
  "kernelspec": {
   "display_name": "Python 3 (ipykernel)",
   "language": "python",
   "name": "python3"
  },
  "language_info": {
   "codemirror_mode": {
    "name": "ipython",
    "version": 3
   },
   "file_extension": ".py",
   "mimetype": "text/x-python",
   "name": "python",
   "nbconvert_exporter": "python",
   "pygments_lexer": "ipython3",
   "version": "3.10.2"
  }
 },
 "nbformat": 4,
 "nbformat_minor": 5
}
