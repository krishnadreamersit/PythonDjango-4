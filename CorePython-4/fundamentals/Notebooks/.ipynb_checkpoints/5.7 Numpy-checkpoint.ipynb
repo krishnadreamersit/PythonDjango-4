{
 "cells": [
  {
   "cell_type": "markdown",
   "id": "ad86322b",
   "metadata": {},
   "source": [
    "### Data Types\n",
    "    #### bool, int, float, str\n",
    "    #### list, tuple, set, dictionary\n",
    "    #### class & object"
   ]
  },
  {
   "cell_type": "markdown",
   "id": "06f28b58",
   "metadata": {},
   "source": [
    "### Array Basics"
   ]
  },
  {
   "cell_type": "code",
   "execution_count": 7,
   "id": "cbfe9ee7",
   "metadata": {},
   "outputs": [],
   "source": [
    "from array import array\n",
    "import sys"
   ]
  },
  {
   "cell_type": "code",
   "execution_count": 14,
   "id": "e3fb5d13",
   "metadata": {},
   "outputs": [
    {
     "name": "stdout",
     "output_type": "stream",
     "text": [
      "array('i', [4, 5, 6, 7, 8])\n",
      "<class 'array.array'>\n",
      "1637407539664\n",
      "100\n",
      "True\n",
      "5\n",
      "4\n",
      "8\n",
      "30\n",
      "4\n",
      "5\n",
      "6\n",
      "7\n",
      "8\n",
      "8\n",
      "4\n"
     ]
    }
   ],
   "source": [
    "arr1 = array('i', [4,5,6,7,8])\n",
    "print(arr1)\n",
    "print(type(arr1))\n",
    "print(id(arr1))\n",
    "print(sys.getsizeof(arr1))\n",
    "print(isinstance(arr1, array))\n",
    "print(len(arr1))  # 5 (0-4)\n",
    "print(min(arr1))\n",
    "print(max(arr1))\n",
    "print(sum(arr1))\n",
    "\n",
    "# Index - Return Value\n",
    "print(arr1[0])\n",
    "print(arr1[1])\n",
    "print(arr1[2])\n",
    "print(arr1[3])\n",
    "print(arr1[4])\n",
    "# print(arr1[5]) # IndexError: array index out of range\n",
    "\n",
    "print(arr1[-1])\n",
    "print(arr1[-5])"
   ]
  },
  {
   "cell_type": "code",
   "execution_count": 24,
   "id": "ea7190d3",
   "metadata": {},
   "outputs": [
    {
     "name": "stdout",
     "output_type": "stream",
     "text": [
      "array('i', [4, 5, 6, 7, 8])\n",
      "array('i', [4, 5, 6, 7, 8])\n",
      "array('i', [4, 5, 6, 7, 8])\n",
      "array('i', [4, 5, 6, 7, 8])\n",
      "array('i', [6])\n",
      "array('i', [6, 7])\n",
      "array('i', [6, 7, 8])\n",
      "array('i', [4, 5, 6, 7, 8])\n",
      "array('i', [4, 6, 8])\n"
     ]
    }
   ],
   "source": [
    "# Slicing - Return Array\n",
    "arr1 = array('i', [4,5,6,7,8])\n",
    "print(arr1[0:5]) # 0-4\n",
    "print(arr1[0:])\n",
    "print(arr1[:5])\n",
    "print(arr1[:])\n",
    "print(arr1[2:3])\n",
    "print(arr1[2:4])\n",
    "print(arr1[2:])\n",
    "print(arr1[0:5:1])  # Step by 1\n",
    "print(arr1[0:5:2])  # Step by 2"
   ]
  },
  {
   "cell_type": "code",
   "execution_count": null,
   "id": "0c8981d3",
   "metadata": {},
   "outputs": [],
   "source": [
    "# Array Functions\n",
    "\"\"\"\n",
    "Type code   C Type             Minimum size in bytes\n",
    " 'b'         signed integer     1\n",
    " 'B'         unsigned integer   1\n",
    " 'u'         Unicode character  2\n",
    " 'h'         signed integer     2\n",
    " 'H'         unsigned integer   2\n",
    " 'i'         signed integer     2\n",
    " 'I'         unsigned integer   2\n",
    " 'l'         signed integer     4\n",
    " 'L'         unsigned integer   4\n",
    " 'q'         signed integer     8\n",
    " 'Q'         unsigned integer   8\n",
    " 'f'         floating point     4\n",
    " 'd'         floating point     8\n",
    " \n",
    "append() -- append a new item to the end of the array\n",
    "buffer_info() -- return information giving the current memory info\n",
    "byteswap() -- byteswap all the items of the array\n",
    "count() -- return number of occurrences of an object\n",
    "extend() -- extend array by appending multiple elements from an iterable\n",
    "fromfile() -- read items from a file object\n",
    "fromlist() -- append items from the list\n",
    "frombytes() -- append items from the string\n",
    "index() -- return index of first occurrence of an object\n",
    "insert() -- insert a new item into the array at a provided position\n",
    "pop() -- remove and return item (default last)\n",
    "remove() -- remove first occurrence of an object\n",
    "reverse() -- reverse the order of the items in the array\n",
    "tofile() -- write all items to a file object\n",
    "tolist() -- return the array converted to an ordinary list\n",
    "tobytes() -- return the array converted to a string\n",
    "\n",
    "Attributes:\n",
    "typecode -- the typecode character used to create the array\n",
    "itemsize -- the length in bytes of one array item\n",
    "\"\"\""
   ]
  },
  {
   "cell_type": "code",
   "execution_count": 26,
   "id": "4c085d38",
   "metadata": {},
   "outputs": [],
   "source": [
    "# Case Studies-1D\n",
    "# Population of Ktm City\n",
    "    # age (today - date of birth ) -> age\n",
    "    # all_ages = array('i', [1,.....,110])\n",
    "    # create an array of integer of 100000 random numbers of range (0, 120)\n",
    "        # len\n",
    "        # max\n",
    "        # min\n",
    "        # average\n",
    "        # sum\n",
    "        # range (0-10)"
   ]
  },
  {
   "cell_type": "markdown",
   "id": "d0c7548c",
   "metadata": {},
   "source": [
    "### Numpy"
   ]
  },
  {
   "cell_type": "code",
   "execution_count": 5,
   "id": "ccc7a9b1",
   "metadata": {},
   "outputs": [],
   "source": [
    "# Introduction to Numpy Array\n",
    "# Differenceces of Array and Numpy Array\n",
    "    # Multi-dimentional array\n",
    "    # Scientific computing\n",
    "\n",
    "# Features\n",
    "    # 50% faster than ordinary iteration\n",
    "    # Extract protopm of data within an array\n",
    "    # Build-in function for array, math (linear algebra, array transformations, and matrix)\n",
    "\n",
    "# The relationship between NumPy, SciPy, Scikit-learn, and Pandas\n",
    "    # NumPy provides a foundation on which other data science packages are built, \n",
    "    # including SciPy, Scikit-learn, and Pandas.\n",
    "\n",
    "    # SciPy provides a menu of libraries for scientific computations. \n",
    "    # It extends NumPy by including integration, interpolation, \n",
    "    # signal processing, more linear algebra functions, descriptive \n",
    "    # and inferential statistics, numerical optimizations, and more.\n",
    "\n",
    "    # Scikit-learn extends NumPy and SciPy with advanced machine-learning algorithms.\n",
    "\n",
    "    # Pandas extends NumPy by providing functions for exploratory data analysis, \n",
    "    # statistics, and data visualization. \n",
    "    # It can be thought of as Python's equivalent to Microsoft Excel spreadsheets for \n",
    "    # working with and exploring tabular data.\n",
    "\n",
    "# Installation\n",
    "    # pip install numpy"
   ]
  },
  {
   "cell_type": "code",
   "execution_count": 1,
   "id": "57e389ea",
   "metadata": {},
   "outputs": [],
   "source": [
    "import numpy as np"
   ]
  },
  {
   "cell_type": "code",
   "execution_count": 1,
   "id": "823b7740",
   "metadata": {},
   "outputs": [
    {
     "ename": "NameError",
     "evalue": "name 'np' is not defined",
     "output_type": "error",
     "traceback": [
      "\u001b[1;31m---------------------------------------------------------------------------\u001b[0m",
      "\u001b[1;31mNameError\u001b[0m                                 Traceback (most recent call last)",
      "Input \u001b[1;32mIn [1]\u001b[0m, in \u001b[0;36m<module>\u001b[1;34m\u001b[0m\n\u001b[1;32m----> 1\u001b[0m arr2 \u001b[38;5;241m=\u001b[39m \u001b[43mnp\u001b[49m\u001b[38;5;241m.\u001b[39marray([\u001b[38;5;241m4\u001b[39m, \u001b[38;5;241m5\u001b[39m, \u001b[38;5;241m6\u001b[39m, \u001b[38;5;241m7\u001b[39m, \u001b[38;5;241m8\u001b[39m]) \u001b[38;5;66;03m# 1D Array\u001b[39;00m\n\u001b[0;32m      2\u001b[0m \u001b[38;5;28mprint\u001b[39m(arr2)\n\u001b[0;32m      3\u001b[0m \u001b[38;5;28mprint\u001b[39m(\u001b[38;5;28mtype\u001b[39m(arr2))\n",
      "\u001b[1;31mNameError\u001b[0m: name 'np' is not defined"
     ]
    }
   ],
   "source": [
    "arr2 = np.array([4, 5, 6, 7, 8]) # 1D Array\n",
    "print(arr2)\n",
    "print(type(arr2))\n",
    "print(len(arr2))\n",
    "print(arr2.shape)\n",
    "\n",
    "arr2 = np.array([[2,3,4,5,6],[7,8,4,3,2]]) # 2D Array\n",
    "print(len(arr2))\n",
    "print(arr2.shape)\n",
    "\n",
    "# 3D Array\n",
    "arr3 = np.array([\n",
    "    [[4,3,6,2,1],[8,3,4,5,9], [4,2,7,6,1]],\n",
    "    [[4,3,6,2,1],[8,3,4,5,9], [4,2,7,6,1]],\n",
    "    [[4,3,6,2,1],[8,3,4,5,9], [4,2,7,6,1]]\n",
    "])\n",
    "\n",
    "print(arr3)\n",
    "shape = arr3.shape\n",
    "print(len(shape), \"D\")"
   ]
  },
  {
   "cell_type": "code",
   "execution_count": null,
   "id": "1f8b2004",
   "metadata": {},
   "outputs": [],
   "source": [
    "# Data type\n",
    "arr2 = numpy.array([2,3,4,5,6])\n",
    "print(arr2.dtype) # Data type\n",
    "\n",
    "arr2 = numpy.array([\"Ktm\",\"Lat\",\"Bhk\",\"Mkp\",\"Cht\"])\n",
    "print(arr2.dtype) # Data type\n",
    "\n",
    "arr2 = numpy.array([1.23, 4.56])\n",
    "print(arr2.dtype) # Data type"
   ]
  },
  {
   "cell_type": "code",
   "execution_count": 10,
   "id": "cb128a33",
   "metadata": {},
   "outputs": [
    {
     "name": "stdout",
     "output_type": "stream",
     "text": [
      "[ 1  2  3  4  5  6  7  8  9 10 11 12 13 14 15 16 17 18 19 20 21 22 23 24\n",
      " 25 26 27 28 29 30 31 32 33 34 35 36 37 38 39 40 41 42 43 44 45 46 47 48\n",
      " 49 50 51 52 53 54 55 56 57 58 59 60 61 62 63 64 65 66 67 68 69 70 71 72\n",
      " 73 74 75 76 77 78 79 80 81 82 83 84 85 86 87 88 89 90 91 92 93 94 95 96\n",
      " 97 98 99]\n"
     ]
    }
   ],
   "source": [
    "# Defining arrays-1\n",
    "arr1 = np.arange(1, 100)\n",
    "print(arr1)"
   ]
  },
  {
   "cell_type": "code",
   "execution_count": 11,
   "id": "28e3c83d",
   "metadata": {},
   "outputs": [
    {
     "name": "stdout",
     "output_type": "stream",
     "text": [
      "[[0.]\n",
      " [0.]\n",
      " [0.]]\n"
     ]
    }
   ],
   "source": [
    "# Defining arrays-2\n",
    "arr1 = np.zeros((3, 1))\n",
    "print(arr1)"
   ]
  },
  {
   "cell_type": "code",
   "execution_count": 12,
   "id": "8258506d",
   "metadata": {},
   "outputs": [
    {
     "name": "stdout",
     "output_type": "stream",
     "text": [
      "[[1.]\n",
      " [1.]\n",
      " [1.]]\n"
     ]
    }
   ],
   "source": [
    "# Defining arrays-3\n",
    "arr1 = np.ones((3, 1))\n",
    "print(arr1)"
   ]
  },
  {
   "cell_type": "code",
   "execution_count": 13,
   "id": "6ed1ad88",
   "metadata": {},
   "outputs": [
    {
     "name": "stdout",
     "output_type": "stream",
     "text": [
      "[[5]\n",
      " [5]\n",
      " [5]]\n"
     ]
    }
   ],
   "source": [
    "# Defining arrays-4\n",
    "arr1 = np.full((3, 1), 5)\n",
    "print(arr1)"
   ]
  },
  {
   "cell_type": "code",
   "execution_count": 23,
   "id": "b594da4d",
   "metadata": {},
   "outputs": [
    {
     "name": "stdout",
     "output_type": "stream",
     "text": [
      "[0 1 2 3 4]\n",
      "(5,)\n",
      "\n",
      "[[1. 1.]\n",
      " [1. 1.]\n",
      " [1. 1.]]\n",
      "(3, 2)\n",
      "\n",
      "[[[0. 0. 0.]\n",
      "  [0. 0. 0.]]\n",
      "\n",
      " [[0. 0. 0.]\n",
      "  [0. 0. 0.]]\n",
      "\n",
      " [[0. 0. 0.]\n",
      "  [0. 0. 0.]]]\n",
      "(3, 2, 3)\n",
      "\n"
     ]
    }
   ],
   "source": [
    "# Shape\n",
    "arr1 = np.arange(5)\n",
    "print(arr1)\n",
    "print(arr1.shape)\n",
    "print()\n",
    "\n",
    "arr2 = np.ones([3,2])\n",
    "print(arr2)\n",
    "print(arr2.shape)\n",
    "print()\n",
    "\n",
    "arr3 = np.zeros([3,2,3])\n",
    "print(arr3)\n",
    "print(arr3.shape)\n",
    "print()"
   ]
  },
  {
   "cell_type": "code",
   "execution_count": 11,
   "id": "e243df51",
   "metadata": {},
   "outputs": [
    {
     "name": "stdout",
     "output_type": "stream",
     "text": [
      "[2 3 4 5 6]\n",
      "[2 3 4 5 6]\n",
      "2496185759568\n",
      "2496185759568\n",
      "2496185759568\n",
      "2496185760144\n"
     ]
    }
   ],
   "source": [
    "# Copy array\n",
    "arr2 = numpy.array([2,3,4,5,6])\n",
    "arr3 = arr2 # by reference\n",
    "\n",
    "print(arr2)\n",
    "print(arr3)\n",
    "\n",
    "print(id(arr2))\n",
    "print(id(arr3))\n",
    "\n",
    "arr4 = arr2.copy() # Copy by value\n",
    "print(id(arr2))\n",
    "print(id(arr4))\n"
   ]
  },
  {
   "cell_type": "code",
   "execution_count": 31,
   "id": "4273f9d8",
   "metadata": {},
   "outputs": [
    {
     "name": "stdout",
     "output_type": "stream",
     "text": [
      "[  1   2   3   4   5   6   7   8   9  10  11  12  13  14  15  16  17  18\n",
      "  19  20  21  22  23  24  25  26  27  28  29  30  31  32  33  34  35  36\n",
      "  37  38  39  40  41  42  43  44  45  46  47  48  49  50  51  52  53  54\n",
      "  55  56  57  58  59  60  61  62  63  64  65  66  67  68  69  70  71  72\n",
      "  73  74  75  76  77  78  79  80  81  82  83  84  85  86  87  88  89  90\n",
      "  91  92  93  94  95  96  97  98  99 100]\n",
      "\n",
      "[[  1   2   3   4   5   6   7   8   9  10]\n",
      " [ 11  12  13  14  15  16  17  18  19  20]\n",
      " [ 21  22  23  24  25  26  27  28  29  30]\n",
      " [ 31  32  33  34  35  36  37  38  39  40]\n",
      " [ 41  42  43  44  45  46  47  48  49  50]\n",
      " [ 51  52  53  54  55  56  57  58  59  60]\n",
      " [ 61  62  63  64  65  66  67  68  69  70]\n",
      " [ 71  72  73  74  75  76  77  78  79  80]\n",
      " [ 81  82  83  84  85  86  87  88  89  90]\n",
      " [ 91  92  93  94  95  96  97  98  99 100]]\n",
      "\n",
      "[[[  1   2   3   4   5   6   7   8   9  10]\n",
      "  [ 11  12  13  14  15  16  17  18  19  20]]\n",
      "\n",
      " [[ 21  22  23  24  25  26  27  28  29  30]\n",
      "  [ 31  32  33  34  35  36  37  38  39  40]]\n",
      "\n",
      " [[ 41  42  43  44  45  46  47  48  49  50]\n",
      "  [ 51  52  53  54  55  56  57  58  59  60]]\n",
      "\n",
      " [[ 61  62  63  64  65  66  67  68  69  70]\n",
      "  [ 71  72  73  74  75  76  77  78  79  80]]\n",
      "\n",
      " [[ 81  82  83  84  85  86  87  88  89  90]\n",
      "  [ 91  92  93  94  95  96  97  98  99 100]]]\n",
      "\n",
      "[  1   2   3   4   5   6   7   8   9  10  11  12  13  14  15  16  17  18\n",
      "  19  20  21  22  23  24  25  26  27  28  29  30  31  32  33  34  35  36\n",
      "  37  38  39  40  41  42  43  44  45  46  47  48  49  50  51  52  53  54\n",
      "  55  56  57  58  59  60  61  62  63  64  65  66  67  68  69  70  71  72\n",
      "  73  74  75  76  77  78  79  80  81  82  83  84  85  86  87  88  89  90\n",
      "  91  92  93  94  95  96  97  98  99 100]\n",
      "\n"
     ]
    }
   ],
   "source": [
    "# Reshape\n",
    "arr1 = np.arange(1, 101) # 1D\n",
    "print(arr1)\n",
    "print()\n",
    "\n",
    "arr1 = arr1.reshape(10,10) #2D\n",
    "print(arr1)\n",
    "print()\n",
    "\n",
    "arr1 = arr1.reshape(5, 2, 10) #3D\n",
    "print(arr1)\n",
    "print()\n",
    "\n",
    "arr1 = arr1.reshape(100)\n",
    "print(arr1)\n",
    "print()"
   ]
  },
  {
   "cell_type": "code",
   "execution_count": 29,
   "id": "b3ddfffa",
   "metadata": {},
   "outputs": [
    {
     "name": "stdout",
     "output_type": "stream",
     "text": [
      "2\n",
      "3\n",
      "4\n",
      "5\n",
      "6\n",
      "7\n"
     ]
    }
   ],
   "source": [
    "# Iteration in Numpy\n",
    "# Iterations\n",
    "arr1 = np.array([6,3,4,5,2]) #1D\n",
    "\n",
    "arr2 = np.array([[4,3,6,2,1],\n",
    "                 [8,3,4,5,9], \n",
    "                 [4,2,7,6,1]\n",
    "                ])# 2D\n",
    "\n",
    "arr3 = np.array([\n",
    "    [[4,3,6,2,1],[8,3,4,5,9], [4,2,7,6,1]],\n",
    "    [[4,3,6,2,1],[8,3,4,5,9], [4,2,7,6,1]],\n",
    "    [[4,3,6,2,1],[8,3,4,5,9], [4,2,7,6,1]]\n",
    "])"
   ]
  },
  {
   "cell_type": "code",
   "execution_count": null,
   "id": "aa501e81",
   "metadata": {},
   "outputs": [],
   "source": [
    "arr1 = np.array([6,3,4,5,2]) #1D\n",
    "# print(arr1)\n",
    "for item in arr1:\n",
    "    print(item, end=' ')"
   ]
  },
  {
   "cell_type": "code",
   "execution_count": null,
   "id": "abe789a1",
   "metadata": {},
   "outputs": [],
   "source": [
    "arr2 = np.array([[4,3,6,2,1],\n",
    "                 [8,3,4,5,9], \n",
    "                 [4,2,7,6,1]\n",
    "                ])# 2D\n",
    "\n",
    "for row in arr2:\n",
    "    for item in row:\n",
    "        print(item)\n",
    "    print()"
   ]
  },
  {
   "cell_type": "code",
   "execution_count": null,
   "id": "0d12d8df",
   "metadata": {},
   "outputs": [],
   "source": [
    "arr3 = np.array([\n",
    "    [[4,3,6,2,1],[8,3,4,5,9], [4,2,7,6,1]],\n",
    "    [[4,3,6,2,1],[8,3,4,5,9], [4,2,7,6,1]],\n",
    "    [[4,3,6,2,1],[8,3,4,5,9], [4,2,7,6,1]]\n",
    "])\n",
    "\n",
    "for row in arr3:\n",
    "    for _row in row:\n",
    "#         print(_row)\n",
    "        for item in _row:\n",
    "            print(item)\n",
    "    print()"
   ]
  },
  {
   "cell_type": "code",
   "execution_count": null,
   "id": "73cc0710",
   "metadata": {},
   "outputs": [],
   "source": [
    "# Reshape (1D->2D->3D->1D)\n",
    "arr4 = np.array([3,2,2,1,2,3,4,5,6,5,4,3,5,6,7,8])\n",
    "print(len(arr4))\n",
    "print(len(arr4.shape))\n",
    "\n",
    "arr5 = arr4.reshape(2,8)\n",
    "arr6 = arr4.reshape(2,2,4)\n",
    "print(arr5.reshape(16))"
   ]
  },
  {
   "cell_type": "code",
   "execution_count": null,
   "id": "3044de23",
   "metadata": {},
   "outputs": [],
   "source": [
    "# Creating Array\n",
    "arr1 = np.arange(1, 17)\n",
    "print(arr1)\n",
    "\n",
    "arr1 = np.ones(16)\n",
    "print(arr1.reshape(2,8))\n",
    "\n",
    "arr1 = np.zeros(16)\n",
    "print(arr1.reshape(2,4,2))"
   ]
  },
  {
   "cell_type": "code",
   "execution_count": null,
   "id": "d7839c3c",
   "metadata": {},
   "outputs": [],
   "source": [
    "# Importing data from csv\n",
    "# sample_data.csv\n",
    "# sales_data_sample.csv"
   ]
  },
  {
   "cell_type": "code",
   "execution_count": null,
   "id": "ef9e3035",
   "metadata": {},
   "outputs": [],
   "source": [
    "# Loading csv data into numpy array\n",
    "import csv\n",
    "import numpy as np\n",
    "data1 = []\n",
    "\n",
    "\"\"\"\n",
    "csvfile1 = open(\"sample_data.csv\", \"r\")\n",
    "reader1 = csv.reader(csvfile1)\n",
    "print(reader1)\n",
    "\"\"\"\n",
    "\n",
    "with open(\"sample_data.csv\", \"r\") as csvfile2:\n",
    "    reader2 = csv.reader(csvfile2)\n",
    "    for row in reader2:\n",
    "        data1.append(row)\n",
    "    # print(type(data1))\n",
    "    # convert list to numpyarray\n",
    "    arr1 = np.array(data1)\n",
    "    print(len(arr1)) # No of records\n",
    "    print(len(arr1.shape)) # Shape of arr1\n",
    "    # Columns ?"
   ]
  },
  {
   "cell_type": "code",
   "execution_count": null,
   "id": "54fc5f4e",
   "metadata": {},
   "outputs": [],
   "source": [
    "heading_row = arr1[0] \n",
    "print(heading_row) # Heading Row\n",
    "print(len(heading_row)) # 6 Columns\n",
    "print(len(arr1)) # arr1[0] rows"
   ]
  },
  {
   "cell_type": "code",
   "execution_count": null,
   "id": "b17e9299",
   "metadata": {},
   "outputs": [],
   "source": [
    "# Exporting data (save on file)\n",
    "np.save(open('data1.npy','wb'), arr1)\n",
    "\n",
    "# Read data from data1.npy file?\n",
    "# Home Work\n",
    "arr2 = np.load('data1.npy')\n",
    "print(arr2)"
   ]
  },
  {
   "cell_type": "code",
   "execution_count": null,
   "id": "e89043e8",
   "metadata": {},
   "outputs": [],
   "source": [
    "# Explore Data (VVIP) -> Slicing\n",
    "# print(arr1[:])\n",
    "# print(arr1[0:7000]) # Rows\n",
    "print(arr1[0, :]) # First row with all columns\n",
    "print(arr1[:, 1]) # first column all rows"
   ]
  },
  {
   "cell_type": "code",
   "execution_count": null,
   "id": "3c923e50",
   "metadata": {},
   "outputs": [],
   "source": [
    "# Subset (Slicing)\n",
    "import csv\n",
    "import numpy as np\n",
    "data1 = []\n",
    "csvfile1 = open(\"sample_data.csv\", \"r\")\n",
    "reader1 = csv.reader(csvfile1)\n",
    "for row in reader1:\n",
    "    data1.append(row)\n",
    "arr1 = np.array(data1)\n",
    "arr2 = arr1[:, 2:4]\n",
    "print(len(arr2))"
   ]
  },
  {
   "cell_type": "code",
   "execution_count": 13,
   "id": "e2d3cbf7",
   "metadata": {},
   "outputs": [
    {
     "name": "stdout",
     "output_type": "stream",
     "text": [
      "[1 2 3 4 5 6]\n",
      "[[1 2 5 6]\n",
      " [3 4 7 8]]\n"
     ]
    }
   ],
   "source": [
    "# Join\n",
    "import numpy as np\n",
    "\n",
    "# 1D\n",
    "arr1 = np.array([1, 2, 3])\n",
    "arr2 = np.array([4, 5, 6])\n",
    "arr3 = np.concatenate((arr1, arr2))\n",
    "print(arr3)\n",
    "\n",
    "# 2D\n",
    "import numpy as np\n",
    "\n",
    "arr1 = np.array([[1, 2], [3, 4]])\n",
    "arr2 = np.array([[5, 6], [7, 8]])\n",
    "arr3 = np.concatenate((arr1, arr2), axis=1)\n",
    "print(arr3)\n",
    "\n"
   ]
  },
  {
   "cell_type": "code",
   "execution_count": 17,
   "id": "f262919d",
   "metadata": {},
   "outputs": [
    {
     "name": "stdout",
     "output_type": "stream",
     "text": [
      "[array([1, 2]), array([3, 4]), array([5]), array([6])]\n"
     ]
    }
   ],
   "source": [
    "# Split\n",
    "arr1 = np.array([1, 2, 3, 4, 5, 6])\n",
    "arr2 = np.array_split(arr1, 4)\n",
    "print(arr2)\n"
   ]
  },
  {
   "cell_type": "code",
   "execution_count": 19,
   "id": "5ee46670",
   "metadata": {},
   "outputs": [
    {
     "name": "stdout",
     "output_type": "stream",
     "text": [
      "(array([3, 5, 6], dtype=int64),)\n",
      "(array([], dtype=int64),)\n"
     ]
    }
   ],
   "source": [
    "# Search\n",
    "arr1 = np.array([1, 2, 3, 4, 5, 4, 4])\n",
    "result = np.where(arr1 == 4)\n",
    "print(result)\n",
    "\n",
    "result = np.where(arr1 == 10)\n",
    "print(result)\n"
   ]
  },
  {
   "cell_type": "code",
   "execution_count": 20,
   "id": "d07581c8",
   "metadata": {},
   "outputs": [
    {
     "name": "stdout",
     "output_type": "stream",
     "text": [
      "[0 1 2 3]\n"
     ]
    }
   ],
   "source": [
    "# Sort\n",
    "arr1 = np.array([3, 2, 0, 1])\n",
    "print(np.sort(arr1))"
   ]
  },
  {
   "cell_type": "code",
   "execution_count": 22,
   "id": "0a575f33",
   "metadata": {},
   "outputs": [
    {
     "name": "stdout",
     "output_type": "stream",
     "text": [
      "[False False  True  True]\n"
     ]
    }
   ],
   "source": [
    "# Filter\n",
    "arr1 = np.array([41, 42, 43, 44])\n",
    "arr2 = arr1 > 42\n",
    "print(arr2)"
   ]
  },
  {
   "cell_type": "markdown",
   "id": "11378e3e",
   "metadata": {},
   "source": [
    "### Random Number"
   ]
  },
  {
   "cell_type": "code",
   "execution_count": 83,
   "id": "2368a8e7",
   "metadata": {},
   "outputs": [
    {
     "name": "stdout",
     "output_type": "stream",
     "text": [
      "34\n",
      "0.8256794368505814\n",
      "[3 7 7 5 7 5 7 7 7 5 7 7 7 7 5 7 7 5 5 7 7 5 7 5 7 7 3 7 7 7 7 7 7 7 5 3 5\n",
      " 7 7 5 5 7 7 7 5 5 7 3 5 7 7 5 5 7 7 7 7 5 5 7 7 7 7 5 7 5 7 5 7 5 7 5 5 3\n",
      " 7 7 5 7 7 5 7 7 7 7 7 7 7 7 7 7 5 7 3 7 7 7 3 7 7 7 7 7 5 5 7 7 7 7 7 7 7\n",
      " 7 7 5 7 3 7 7 7 7 3 5 7 7 7 7 5 5 7 5 3 7 7 7 7 5 3 7 5 7 7 7 3 5 3 7 7 7\n",
      " 7 3 5 5 3 3 3 7 5 7 5 3 7 5 7 7 7 7 5 7 3 7 7 7 7 3 7 7 3 7 7 3 7 5 7 7 5\n",
      " 3 7 3 7 3 3 5 7 7 5 7 7 7 7 7]\n"
     ]
    }
   ],
   "source": [
    "from numpy import random\n",
    "n = random.randint(100) # int\n",
    "print(n)\n",
    "\n",
    "n = random.rand() # float\n",
    "print(n)\n",
    "# print(int(n*1000))\n",
    "\n",
    "n = random.choice([3, 5, 7, 9, ], p=[0.1, 0.3, 0.6, 0.0], size=(200))\n",
    "print(n)\n"
   ]
  },
  {
   "cell_type": "markdown",
   "id": "defd7868",
   "metadata": {},
   "source": [
    "### Shuffling Arrays"
   ]
  },
  {
   "cell_type": "code",
   "execution_count": 29,
   "id": "4c4d05cb",
   "metadata": {},
   "outputs": [
    {
     "name": "stdout",
     "output_type": "stream",
     "text": [
      "[1 2 3 4 5]\n",
      "[2 4 1 5 3]\n"
     ]
    }
   ],
   "source": [
    "arr1 = np.array([1, 2, 3, 4, 5])\n",
    "print(arr1)\n",
    "random.shuffle(arr1)\n",
    "print(arr1)"
   ]
  },
  {
   "cell_type": "code",
   "execution_count": null,
   "id": "0786f874",
   "metadata": {},
   "outputs": [],
   "source": [
    "# Ploting -> Graphs -> Chart\n",
    "# Plotting Library (Chart)   \n",
    "    # matplotlib\n",
    "    # seaborn # pip install seaborn"
   ]
  },
  {
   "cell_type": "code",
   "execution_count": null,
   "id": "0bf9a76e",
   "metadata": {},
   "outputs": [],
   "source": [
    "# matplotlib\n",
    "import numpy as np\n",
    "from matplotlib import pyplot as plt"
   ]
  },
  {
   "cell_type": "code",
   "execution_count": null,
   "id": "c582886d",
   "metadata": {},
   "outputs": [],
   "source": [
    "# Example-1\n",
    "arr1 = np.arange(1, 11) # Natural Data\n",
    "arr2 = 2*arr1 + 7 # Natural Data\n",
    "# print(arr1)\n",
    "# print(arr2)\n",
    "# plt.plot(arr1, arr2) # Line\n",
    "plt.plot(arr1, arr2, \"ob\") # Point\n",
    "plt.title(\"Chart-1\")\n",
    "plt.xlabel(\"No of Students\")\n",
    "plt.ylabel(\"Age of Student\")\n",
    "plt.show()"
   ]
  },
  {
   "cell_type": "code",
   "execution_count": null,
   "id": "ba0e4e44",
   "metadata": {},
   "outputs": [],
   "source": [
    "# Example-2\n",
    "x1 = [5,6,7,8,10]\n",
    "y1 = [9,3,5,6,12]\n",
    "\n",
    "x2 = [4,5,3,4,2]\n",
    "y2 = [8,7,5,3,6]\n",
    "\n",
    "plt.title(\"Bar Chart-1\")\n",
    "plt.ylabel(\"Age of Students\")\n",
    "plt.xlabel(\"No of Students\")\n",
    "plt.bar(x1,y1)\n",
    "plt.bar(x2, y2)\n",
    "plt.show()"
   ]
  },
  {
   "cell_type": "code",
   "execution_count": null,
   "id": "45d49a60",
   "metadata": {},
   "outputs": [],
   "source": [
    "# Example-3\n",
    "x1 = [5,6,7,8,10]\n",
    "y1 = [9,3,5,6,12]\n",
    "\n",
    "x2 = [4,5,3,4,2]\n",
    "y2 = [8,7,5,3,6]\n",
    "\n",
    "plt.title(\"Bar Chart-1\")\n",
    "plt.ylabel(\"Age of Students\")\n",
    "plt.xlabel(\"No of Students\")\n",
    "plt.bar(x1,y1)\n",
    "plt.bar(x2, y2)\n",
    "plt.legend(['Group1','Group2'])\n",
    "plt.show()"
   ]
  },
  {
   "cell_type": "code",
   "execution_count": null,
   "id": "4e814f3d",
   "metadata": {},
   "outputs": [],
   "source": [
    "# Example-4\n",
    "x1 = [5,6,7,8,10]\n",
    "y1 = [9,3,5,6,12]\n",
    "x2 = [4,5,3,4,2]\n",
    "y2 = [8,7,5,3,6]\n",
    "\n",
    "plt.title(\"Line Chart-1\")\n",
    "plt.plot(x1)\n",
    "plt.plot(y1)\n",
    "plt.plot(x2)\n",
    "plt.plot(y2)\n",
    "plt.legend(['Group1','Group2','Group3','Group4'])\n",
    "plt.show()"
   ]
  },
  {
   "cell_type": "code",
   "execution_count": null,
   "id": "b18eb0de",
   "metadata": {},
   "outputs": [],
   "source": [
    "# Example-5\n",
    "x1 = [5,6,7,8,10]\n",
    "y1 = [9,3,5,6,12]\n",
    "x2 = [4,5,3,4,2]\n",
    "y2 = [8,7,5,3,6]\n",
    "\n",
    "plt.title(\"Line Chart-1\")\n",
    "plt.plot(x1)\n",
    "plt.plot(y1)\n",
    "plt.plot(x2)\n",
    "plt.plot(y2)\n",
    "plt.legend(['Group1','Group2','Group3','Group4'])\n",
    "plt.savefig('chart1.jpg') # Save to file\n",
    "plt.show()"
   ]
  },
  {
   "cell_type": "markdown",
   "id": "72017768",
   "metadata": {},
   "source": [
    "### Visualize using Seaborn"
   ]
  },
  {
   "cell_type": "code",
   "execution_count": 30,
   "id": "613eaa6e",
   "metadata": {},
   "outputs": [
    {
     "name": "stderr",
     "output_type": "stream",
     "text": [
      "d:\\python\\pythondjango-4\\corepython-4\\venv\\lib\\site-packages\\seaborn\\distributions.py:2619: FutureWarning: `distplot` is a deprecated function and will be removed in a future version. Please adapt your code to use either `displot` (a figure-level function with similar flexibility) or `histplot` (an axes-level function for histograms).\n",
      "  warnings.warn(msg, FutureWarning)\n"
     ]
    },
    {
     "data": {
      "image/png": "[encoded data removed]",
      "text/plain": [
       "<Figure size 432x288 with 1 Axes>"
      ]
     },
     "metadata": {
      "needs_background": "light"
     },
     "output_type": "display_data"
    }
   ],
   "source": [
    "# pip install seaborn\n",
    "# pip install matplotlib\n",
    "\n",
    "import matplotlib.pyplot as plt\n",
    "import seaborn as sns\n",
    "\n",
    "sns.distplot([0, 1, 2, 3, 4, 5])\n",
    "plt.show()"
   ]
  },
  {
   "cell_type": "code",
   "execution_count": 85,
   "id": "b83d9642",
   "metadata": {},
   "outputs": [
    {
     "name": "stderr",
     "output_type": "stream",
     "text": [
      "d:\\python\\pythondjango-4\\corepython-4\\venv\\lib\\site-packages\\seaborn\\distributions.py:2619: FutureWarning: `distplot` is a deprecated function and will be removed in a future version. Please adapt your code to use either `displot` (a figure-level function with similar flexibility) or `kdeplot` (an axes-level function for kernel density plots).\n",
      "  warnings.warn(msg, FutureWarning)\n"
     ]
    },
    {
     "data": {
      "image/png": "[encoded data removed]",
      "text/plain": [
       "<Figure size 432x288 with 1 Axes>"
      ]
     },
     "metadata": {
      "needs_background": "light"
     },
     "output_type": "display_data"
    }
   ],
   "source": [
    "from numpy import random\n",
    "import matplotlib.pyplot as plt\n",
    "import seaborn as sns\n",
    "\n",
    "sns.distplot(random.normal(size=1000), hist=False)\n",
    "\n",
    "plt.show()"
   ]
  },
  {
   "cell_type": "markdown",
   "id": "572de52d",
   "metadata": {},
   "source": [
    "### Usefull function in Numpy\n",
    "<strong>Array Creation:</strong> arange, array, copy, empty, empty_like, eye, fromfile, fromfunction, identity, linspace, logspace, mgrid, ogrid, ones, ones_like, r_, zeros, zeros_like\n",
    "\n",
    "<strong>Conversions:</strong> ndarray.astype, atleast_1d, atleast_2d, atleast_3d, mat\n",
    "\n",
    "<strong>Manipulations:</strong> array_split, column_stack, concatenate, diagonal, dsplit, dstack, hsplit, hstack, ndarray.item, newaxis, ravel, repeat, reshape, resize, squeeze, swapaxes, take, transpose, vsplit, vstack\n",
    "\n",
    "<strong>Questions:</strong> all, any, nonzero, where\n",
    "\n",
    "<strong>Ordering:</strong> argmax, argmin, argsort, max, min, ptp, searchsorted, sort\n",
    "\n",
    "<strong>Operations:</strong> choose, compress, cumprod, cumsum, inner, ndarray.fill, imag, prod, put, putmask, real, sum\n",
    "\n",
    "<strong>Basic Statistics:</strong> cov, mean, std, var\n",
    "\n",
    "<strong>Basic Linear Algebra:</strong> cross, dot, outer, linalg.svd, vdot"
   ]
  },
  {
   "cell_type": "code",
   "execution_count": null,
   "id": "9b174704",
   "metadata": {},
   "outputs": [],
   "source": [
    "# https://www.learndatasci.com/tutorials/applied-introduction-to-numpy-python-tutorial/\n",
    "# https://www.eia.gov/totalenergy/data/browser/"
   ]
  }
 ],
 "metadata": {
  "kernelspec": {
   "display_name": "Python 3 (ipykernel)",
   "language": "python",
   "name": "python3"
  },
  "language_info": {
   "codemirror_mode": {
    "name": "ipython",
    "version": 3
   },
   "file_extension": ".py",
   "mimetype": "text/x-python",
   "name": "python",
   "nbconvert_exporter": "python",
   "pygments_lexer": "ipython3",
   "version": "3.10.2"
  }
 },
 "nbformat": 4,
 "nbformat_minor": 5
}
