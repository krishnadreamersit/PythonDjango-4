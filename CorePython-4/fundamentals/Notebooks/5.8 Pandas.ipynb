{
 "cells": [
  {
   "cell_type": "code",
   "execution_count": 8,
   "id": "4c657a2e",
   "metadata": {},
   "outputs": [
    {
     "name": "stdout",
     "output_type": "stream",
     "text": [
      "1.4.1\n"
     ]
    }
   ],
   "source": [
    "# pip install pandas\n",
    "import pandas as pd\n",
    "\n",
    "print(pd.__version__)"
   ]
  },
  {
   "cell_type": "markdown",
   "id": "2255e1fe",
   "metadata": {},
   "source": [
    "### Data Series"
   ]
  },
  {
   "cell_type": "code",
   "execution_count": 11,
   "id": "6d08ece5",
   "metadata": {},
   "outputs": [
    {
     "name": "stdout",
     "output_type": "stream",
     "text": [
      "0    1\n",
      "1    7\n",
      "2    2\n",
      "dtype: int64\n"
     ]
    }
   ],
   "source": [
    "data = [1, 7, 2]\n",
    "data_serire = pd.Series(data)\n",
    "print(data_serire)"
   ]
  },
  {
   "cell_type": "markdown",
   "id": "11aa884a",
   "metadata": {},
   "source": [
    "### Data Labels"
   ]
  },
  {
   "cell_type": "code",
   "execution_count": 16,
   "id": "2b41aa03",
   "metadata": {},
   "outputs": [
    {
     "name": "stdout",
     "output_type": "stream",
     "text": [
      "id           1\n",
      "name       Raj\n",
      "address    KTM\n",
      "dtype: object\n",
      "\n",
      "1\n",
      "Raj\n",
      "KTM\n"
     ]
    }
   ],
   "source": [
    "data = [1, 'Raj', 'KTM']\n",
    "myvar = pd.Series(data, index = [\"id\", \"name\", \"address\"])\n",
    "print(myvar)\n",
    "print()\n",
    "print(myvar['id'])\n",
    "print(myvar['name'])\n",
    "print(myvar['address'])"
   ]
  },
  {
   "cell_type": "code",
   "execution_count": 19,
   "id": "304c3b15",
   "metadata": {},
   "outputs": [
    {
     "name": "stdout",
     "output_type": "stream",
     "text": [
      "id           1\n",
      "name       Raj\n",
      "address    KTM\n",
      "dtype: object\n"
     ]
    }
   ],
   "source": [
    "# Example-2\n",
    "data = {\"id\": 1, \"name\":\"Raj\", \"address\": \"KTM\"}\n",
    "myvar = pd.Series(data)\n",
    "print(myvar)\n"
   ]
  },
  {
   "cell_type": "code",
   "execution_count": 20,
   "id": "d978ddde",
   "metadata": {},
   "outputs": [
    {
     "name": "stdout",
     "output_type": "stream",
     "text": [
      "    cars  seats\n",
      "0    BMW      3\n",
      "1  Volvo      7\n",
      "2   Ford      2\n"
     ]
    }
   ],
   "source": [
    "# Example-3\n",
    "mydataset = {\n",
    "  'cars': [\"BMW\", \"Volvo\", \"Ford\"],\n",
    "  'seats': [3, 7, 2]\n",
    "}\n",
    "\n",
    "pd1 = pd.DataFrame(mydataset)\n",
    "print(pd1)"
   ]
  },
  {
   "cell_type": "markdown",
   "id": "4d7437ec",
   "metadata": {},
   "source": [
    "### DataFrame"
   ]
  },
  {
   "cell_type": "code",
   "execution_count": null,
   "id": "9a21bfc0",
   "metadata": {},
   "outputs": [],
   "source": []
  }
 ],
 "metadata": {
  "kernelspec": {
   "display_name": "Python 3 (ipykernel)",
   "language": "python",
   "name": "python3"
  },
  "language_info": {
   "codemirror_mode": {
    "name": "ipython",
    "version": 3
   },
   "file_extension": ".py",
   "mimetype": "text/x-python",
   "name": "python",
   "nbconvert_exporter": "python",
   "pygments_lexer": "ipython3",
   "version": "3.10.2"
  }
 },
 "nbformat": 4,
 "nbformat_minor": 5
}
