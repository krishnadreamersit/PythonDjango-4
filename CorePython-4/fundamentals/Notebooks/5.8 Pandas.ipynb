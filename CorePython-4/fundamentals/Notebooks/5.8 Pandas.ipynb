{
 "cells": [
  {
   "cell_type": "markdown",
   "id": "8e77967d",
   "metadata": {},
   "source": [
    "### Pandas"
   ]
  },
  {
   "cell_type": "code",
   "execution_count": 2,
   "id": "36c4f44b",
   "metadata": {},
   "outputs": [],
   "source": [
    "# pip install pandas\n",
    "import pandas as pd"
   ]
  },
  {
   "cell_type": "code",
   "execution_count": 3,
   "id": "98cca161",
   "metadata": {},
   "outputs": [
    {
     "name": "stdout",
     "output_type": "stream",
     "text": [
      "0    1\n",
      "1    7\n",
      "2    2\n",
      "dtype: int64\n"
     ]
    }
   ],
   "source": [
    "# Series\n",
    "list1 = [1, 7, 2]\n",
    "myvar = pd.Series(list1)\n",
    "print(myvar)"
   ]
  },
  {
   "cell_type": "code",
   "execution_count": 4,
   "id": "9fbf6b02",
   "metadata": {},
   "outputs": [
    {
     "name": "stdout",
     "output_type": "stream",
     "text": [
      "x    4\n",
      "y    7\n",
      "z    5\n",
      "dtype: int64\n",
      "7\n"
     ]
    }
   ],
   "source": [
    "# Labels\n",
    "list1 = [4, 7, 5]\n",
    "myvar = pd.Series(list1, index = [\"x\", \"y\", \"z\"])\n",
    "print(myvar)\n",
    "print(myvar['y'])"
   ]
  },
  {
   "cell_type": "code",
   "execution_count": 5,
   "id": "c5013f60",
   "metadata": {},
   "outputs": [
    {
     "name": "stdout",
     "output_type": "stream",
     "text": [
      "day1    420\n",
      "day2    380\n",
      "day3    390\n",
      "dtype: int64\n",
      "\n",
      "day1    420\n",
      "day2    380\n",
      "dtype: int64\n",
      "\n"
     ]
    }
   ],
   "source": [
    "# Dict to Series\n",
    "# Example-1\n",
    "calories = {\"day1\": 420, \"day2\": 380, \"day3\": 390}\n",
    "myvar = pd.Series(calories)\n",
    "print(myvar)\n",
    "print()\n",
    "\n",
    "# Example-2\n",
    "calories = {\"day1\": 420, \"day2\": 380, \"day3\": 390}\n",
    "myvar = pd.Series(calories, index = [\"day1\", \"day2\"])\n",
    "print(myvar)\n",
    "print()"
   ]
  },
  {
   "cell_type": "code",
   "execution_count": 6,
   "id": "39820e49",
   "metadata": {},
   "outputs": [
    {
     "name": "stdout",
     "output_type": "stream",
     "text": [
      "   calories  duration\n",
      "0       420        50\n",
      "1       380        40\n",
      "2       390        45\n",
      "\n",
      "calories    420\n",
      "duration     50\n",
      "Name: 0, dtype: int64\n",
      "\n",
      "   calories  duration\n",
      "0       420        50\n",
      "1       380        40\n",
      "\n",
      "      calories  duration\n",
      "day1       420        50\n",
      "day2       380        40\n",
      "day3       390        45\n",
      "\n"
     ]
    }
   ],
   "source": [
    "# Dictionary to DataFrame\n",
    "data = {\n",
    "  \"calories\": [420, 380, 390],\n",
    "  \"duration\": [50, 40, 45]\n",
    "}\n",
    "\n",
    "#load data into a DataFrame object:\n",
    "df = pd.DataFrame(data)\n",
    "print(df) \n",
    "print()\n",
    "\n",
    "# Locate Row (loc)\n",
    "print(df.loc[0])\n",
    "print()\n",
    "\n",
    "#use a list of indexes:\n",
    "print(df.loc[[0, 1]])\n",
    "print()\n",
    "\n",
    "# named index\n",
    "data = {\n",
    "  \"calories\": [420, 380, 390],\n",
    "  \"duration\": [50, 40, 45]\n",
    "}\n",
    "df = pd.DataFrame(data, index = [\"day1\", \"day2\", \"day3\"])\n",
    "print(df) \n",
    "print()"
   ]
  },
  {
   "cell_type": "code",
   "execution_count": 35,
   "id": "bc4bd9e5",
   "metadata": {},
   "outputs": [],
   "source": [
    "# Load Files Into a DataFrame\n",
    "\n",
    "# Example-1\n",
    "pd.options.display.max_rows = 9999\n",
    "df = pd.read_csv(\"data/data1.csv\") # file with csv data\n",
    "# print(df.to_string())\n",
    "\n",
    "# Example-2\n",
    "pd.options.display.max_rows = 9999\n",
    "df = pd.read_json(\"data/sample_1.json\") # file with disctionary data\n",
    "# print(df.to_string())"
   ]
  },
  {
   "cell_type": "markdown",
   "id": "07a4beee",
   "metadata": {},
   "source": [
    "### Data Analyzing"
   ]
  },
  {
   "cell_type": "code",
   "execution_count": 9,
   "id": "ff9d7242",
   "metadata": {},
   "outputs": [
    {
     "name": "stdout",
     "output_type": "stream",
     "text": [
      "<class 'pandas.core.frame.DataFrame'>\n",
      "RangeIndex: 3 entries, 0 to 2\n",
      "Data columns (total 3 columns):\n",
      " #   Column   Non-Null Count  Dtype \n",
      "---  ------   --------------  ----- \n",
      " 0   SN       3 non-null      int64 \n",
      " 1   NAME     3 non-null      object\n",
      " 2   ADDRESS  3 non-null      object\n",
      "dtypes: int64(1), object(2)\n",
      "memory usage: 200.0+ bytes\n",
      "None\n"
     ]
    }
   ],
   "source": [
    "df = pd.read_csv(\"data/data1.csv\") # file with csv data\n",
    "print(df.info())\n",
    "\n",
    "# print(df.to_string())\n",
    "# print()\n",
    "# print(df.head(2)) # First 2 Rows\n",
    "# print()\n",
    "# print(df.tail(2)) # Last 2 Rows\n",
    "# print()"
   ]
  },
  {
   "cell_type": "markdown",
   "id": "f796151e",
   "metadata": {},
   "source": [
    "### Data Cleaning"
   ]
  },
  {
   "cell_type": "code",
   "execution_count": 30,
   "id": "30babd96",
   "metadata": {},
   "outputs": [],
   "source": [
    "import pandas as pd\n",
    "pd.options.display.max_rows = 9999\n",
    "df = pd.read_csv('data\\\\movie_metadata2.csv')\n",
    "\n",
    "# Cleaning Empty Cells\n",
    "new_df = df.dropna()\n",
    "print(new_df.to_string())\n",
    "print()\n",
    "\n",
    "# Replace empty values\n",
    "df.fillna(130, inplace = True)\n",
    "print(df.to_string())\n",
    "print()\n",
    "\n",
    "# Replace with specified columns\n",
    "df[\"Calories\"].fillna(130, inplace = True)\n",
    "print(df.to_string())\n",
    "print()\n",
    "\n",
    "# Mean\n",
    "x = df[\"Calories\"].mean()\n",
    "df[\"Calories\"].fillna(x, inplace = True)\n",
    "print(df.to_string())\n",
    "print()\n",
    "\n",
    "# Median\n",
    "x = df[\"Calories\"].median()\n",
    "df[\"Calories\"].fillna(x, inplace = True)\n",
    "print(df.to_string())\n",
    "print()\n",
    "\n",
    "# Mode\n",
    "x = df[\"Calories\"].mode()[0]\n",
    "df[\"Calories\"].fillna(x, inplace = True)\n",
    "print(df.to_string())\n",
    "print()"
   ]
  },
  {
   "cell_type": "code",
   "execution_count": 56,
   "id": "05078631",
   "metadata": {},
   "outputs": [],
   "source": [
    "import pandas as pd\n",
    "\n",
    "#importing the dataset by reading the csv file\n",
    "data = pd.read_csv('data/employee_data.csv')"
   ]
  },
  {
   "cell_type": "code",
   "execution_count": null,
   "id": "ee1d416c",
   "metadata": {},
   "outputs": [],
   "source": [
    "#displaying the first five rows of dataset \n",
    "# data.head()\n",
    "\n",
    "#displayinf last five rows of dataset\n",
    "# data.tail()"
   ]
  },
  {
   "cell_type": "code",
   "execution_count": 62,
   "id": "59c9110d",
   "metadata": {},
   "outputs": [
    {
     "name": "stdout",
     "output_type": "stream",
     "text": [
      "<class 'pandas.core.frame.DataFrame'>\n",
      "RangeIndex: 1000 entries, 0 to 999\n",
      "Data columns (total 8 columns):\n",
      " #   Column             Non-Null Count  Dtype  \n",
      "---  ------             --------------  -----  \n",
      " 0   number             1000 non-null   int64  \n",
      " 1   first_name         999 non-null    object \n",
      " 2   last_name          999 non-null    object \n",
      " 3   gender             793 non-null    object \n",
      " 4   birth_date         999 non-null    object \n",
      " 5   employment_status  811 non-null    object \n",
      " 6   annual_salary      999 non-null    float64\n",
      " 7   tax_file_no        0 non-null      float64\n",
      "dtypes: float64(2), int64(1), object(5)\n",
      "memory usage: 62.6+ KB\n",
      "None\n"
     ]
    }
   ],
   "source": [
    "print(data.info())"
   ]
  },
  {
   "cell_type": "code",
   "execution_count": 64,
   "id": "db331e10",
   "metadata": {},
   "outputs": [],
   "source": [
    "# isnull\n",
    "# data.isnull()"
   ]
  },
  {
   "cell_type": "code",
   "execution_count": 66,
   "id": "3b764538",
   "metadata": {},
   "outputs": [
    {
     "data": {
      "text/plain": [
       "7"
      ]
     },
     "execution_count": 66,
     "metadata": {},
     "output_type": "execute_result"
    }
   ],
   "source": [
    "# isna\n",
    "# data.isna()\n",
    "# data.isna().any()\n",
    "# data.isna().sum()\n",
    "data.isna().any().sum()"
   ]
  },
  {
   "cell_type": "markdown",
   "id": "4e191fa4",
   "metadata": {},
   "source": [
    "### Pandas Database Connection"
   ]
  },
  {
   "cell_type": "code",
   "execution_count": 2,
   "id": "0f7d7a61",
   "metadata": {},
   "outputs": [],
   "source": [
    "import sqlite3 as sql\n",
    "import pandas as pd\n",
    "import matplotlib.pyplot as plt"
   ]
  },
  {
   "cell_type": "code",
   "execution_count": 10,
   "id": "f95d8eaf",
   "metadata": {},
   "outputs": [],
   "source": [
    "# Reading from CSV\n",
    "weather = pd.read_csv('https://github.com/alanjones2/dataviz/raw/master/londonweather.csv')\n",
    "conn = sql.connect(\"MyDb.db\")\n",
    "\n",
    "# Writing to SQLite DB\n",
    "weather.to_sql('wether', conn)"
   ]
  },
  {
   "cell_type": "code",
   "execution_count": 19,
   "id": "8fd83d5d",
   "metadata": {},
   "outputs": [
    {
     "data": {
      "text/plain": [
       "<matplotlib.legend.Legend at 0x174502f99f0>"
      ]
     },
     "execution_count": 19,
     "metadata": {},
     "output_type": "execute_result"
    },
    {
     "data": {
      "image/png": "[encoded data removed]",
      "text/plain": [
       "<Figure size 432x288 with 1 Axes>"
      ]
     },
     "metadata": {
      "needs_background": "light"
     },
     "output_type": "display_data"
    }
   ],
   "source": [
    "# Reading values from SQLite DB\n",
    "conn = sql.connect('MyDb.db')\n",
    "wether = pd.read_sql('SELECT * FROM wether', conn)\n",
    "# print(wether)\n",
    "\n",
    "y1960 = pd.read_sql('SELECT * FROM wether WHERE Year == 1960', conn)\n",
    "y2010 = pd.read_sql('SELECT * FROM wether WHERE Year == 2010', conn)\n",
    "\n",
    "# Ploting\n",
    "ax2010 = y2010.plot(y='Tmax')\n",
    "ax = y1960.plot(y='Tmax',color = 'red', ax=ax2010)\n",
    "ax.legend(['2010','1960'])"
   ]
  },
  {
   "cell_type": "code",
   "execution_count": 22,
   "id": "bfa1c446",
   "metadata": {},
   "outputs": [
    {
     "data": {
      "text/plain": [
       "<AxesSubplot:ylabel='Frequency'>"
      ]
     },
     "execution_count": 22,
     "metadata": {},
     "output_type": "execute_result"
    },
    {
     "data": {
      "image/png": "[encoded data removed]",
      "text/plain": [
       "<Figure size 432x288 with 1 Axes>"
      ]
     },
     "metadata": {
      "needs_background": "light"
     },
     "output_type": "display_data"
    }
   ],
   "source": [
    "high = pd.read_sql('SELECT Year,Month,Tmax FROM wether WHERE Tmax > 25 ORDER BY Tmax DESC', conn)\n",
    "# print(high)\n",
    "high.plot.hist(y='Month', xticks=high['Month'])"
   ]
  },
  {
   "cell_type": "code",
   "execution_count": 27,
   "id": "9f65867d",
   "metadata": {},
   "outputs": [
    {
     "data": {
      "image/png": "[encoded data removed]",
      "text/plain": [
       "<Figure size 1440x360 with 1 Axes>"
      ]
     },
     "metadata": {
      "needs_background": "light"
     },
     "output_type": "display_data"
    }
   ],
   "source": [
    "july = pd.read_sql('SELECT Year,Month,Tmax FROM wether WHERE month == 6', conn)\n",
    "fig = july.plot.bar(x='Year', y='Tmax', figsize=(20,5));\n",
    "fig.figure.savefig(\"samplechart.jpg\")"
   ]
  },
  {
   "cell_type": "code",
   "execution_count": 13,
   "id": "daf3b04e",
   "metadata": {},
   "outputs": [],
   "source": [
    "# Plot (chart) pandas data freame/series using seaborn/pyplot"
   ]
  }
 ],
 "metadata": {
  "kernelspec": {
   "display_name": "Python 3 (ipykernel)",
   "language": "python",
   "name": "python3"
  },
  "language_info": {
   "codemirror_mode": {
    "name": "ipython",
    "version": 3
   },
   "file_extension": ".py",
   "mimetype": "text/x-python",
   "name": "python",
   "nbconvert_exporter": "python",
   "pygments_lexer": "ipython3",
   "version": "3.10.2"
  }
 },
 "nbformat": 4,
 "nbformat_minor": 5
}
