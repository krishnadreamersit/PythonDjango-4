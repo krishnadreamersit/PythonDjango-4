{
 "cells": [
  {
   "cell_type": "markdown",
   "id": "2d027774",
   "metadata": {},
   "source": [
    "### Numpy"
   ]
  },
  {
   "cell_type": "code",
   "execution_count": 3,
   "id": "7e8c1a71",
   "metadata": {},
   "outputs": [],
   "source": [
    "# pip install numpy\n",
    "import numpy as np"
   ]
  },
  {
   "cell_type": "code",
   "execution_count": 12,
   "id": "f2a556e7",
   "metadata": {},
   "outputs": [
    {
     "name": "stdout",
     "output_type": "stream",
     "text": [
      "[6 3 4 5 2]\n",
      "1 D\n",
      "<class 'numpy.ndarray'>\n",
      "5\n",
      "2121242493456\n"
     ]
    }
   ],
   "source": [
    "# Decalre Numpy Array\n",
    "arr1 = np.array([6,3,4,5,2]) #1D\n",
    "print(arr1)\n",
    "shape=arr1.shape\n",
    "print(len(shape), \"D\")\n",
    "print(type(arr1))\n",
    "print(len(arr1))\n",
    "print(id(arr1))"
   ]
  },
  {
   "cell_type": "code",
   "execution_count": 18,
   "id": "e7da6f75",
   "metadata": {},
   "outputs": [
    {
     "name": "stdout",
     "output_type": "stream",
     "text": [
      "[[4 3 6 2 1]\n",
      " [8 3 4 5 9]\n",
      " [4 2 7 6 1]]\n",
      "2 D\n",
      "3\n"
     ]
    }
   ],
   "source": [
    "arr2 = np.array([[4,3,6,2,1],[8,3,4,5,9], [4,2,7,6,1]])# 2D\n",
    "print(arr2)\n",
    "shape = len(arr2.shape)\n",
    "print(shape, 'D')\n",
    "print(len(arr2))"
   ]
  },
  {
   "cell_type": "code",
   "execution_count": 34,
   "id": "bda4c75d",
   "metadata": {},
   "outputs": [
    {
     "name": "stdout",
     "output_type": "stream",
     "text": [
      "[[[4 3 6 2 1]\n",
      "  [8 3 4 5 9]\n",
      "  [4 2 7 6 1]]\n",
      "\n",
      " [[4 3 6 2 1]\n",
      "  [8 3 4 5 9]\n",
      "  [4 2 7 6 1]]\n",
      "\n",
      " [[4 3 6 2 1]\n",
      "  [8 3 4 5 9]\n",
      "  [4 2 7 6 1]]]\n",
      "3 D\n"
     ]
    }
   ],
   "source": [
    "arr3 = np.array([\n",
    "    [[4,3,6,2,1],[8,3,4,5,9], [4,2,7,6,1]],\n",
    "    [[4,3,6,2,1],[8,3,4,5,9], [4,2,7,6,1]],\n",
    "    [[4,3,6,2,1],[8,3,4,5,9], [4,2,7,6,1]]\n",
    "])\n",
    "print(arr3)\n",
    "shape = arr3.shape\n",
    "print(len(shape), \"D\")"
   ]
  },
  {
   "cell_type": "code",
   "execution_count": 35,
   "id": "a09242ee",
   "metadata": {},
   "outputs": [],
   "source": [
    "# Iterations\n",
    "arr1 = np.array([6,3,4,5,2]) #1D\n",
    "\n",
    "arr2 = np.array([[4,3,6,2,1],\n",
    "                 [8,3,4,5,9], \n",
    "                 [4,2,7,6,1]\n",
    "                ])# 2D\n",
    "\n",
    "arr3 = np.array([\n",
    "    [[4,3,6,2,1],[8,3,4,5,9], [4,2,7,6,1]],\n",
    "    [[4,3,6,2,1],[8,3,4,5,9], [4,2,7,6,1]],\n",
    "    [[4,3,6,2,1],[8,3,4,5,9], [4,2,7,6,1]]\n",
    "])"
   ]
  },
  {
   "cell_type": "code",
   "execution_count": 42,
   "id": "aa75b3a7",
   "metadata": {},
   "outputs": [
    {
     "name": "stdout",
     "output_type": "stream",
     "text": [
      "6 3 4 5 2 "
     ]
    }
   ],
   "source": [
    "arr1 = np.array([6,3,4,5,2]) #1D\n",
    "# print(arr1)\n",
    "for item in arr1:\n",
    "    print(item, end=' ')"
   ]
  },
  {
   "cell_type": "code",
   "execution_count": 45,
   "id": "81d4f34f",
   "metadata": {},
   "outputs": [
    {
     "name": "stdout",
     "output_type": "stream",
     "text": [
      "4\n",
      "3\n",
      "6\n",
      "2\n",
      "1\n",
      "\n",
      "8\n",
      "3\n",
      "4\n",
      "5\n",
      "9\n",
      "\n",
      "4\n",
      "2\n",
      "7\n",
      "6\n",
      "1\n",
      "\n"
     ]
    }
   ],
   "source": [
    "arr2 = np.array([[4,3,6,2,1],\n",
    "                 [8,3,4,5,9], \n",
    "                 [4,2,7,6,1]\n",
    "                ])# 2D\n",
    "\n",
    "for row in arr2:\n",
    "    for item in row:\n",
    "        print(item)\n",
    "    print()"
   ]
  },
  {
   "cell_type": "code",
   "execution_count": 51,
   "id": "e616834e",
   "metadata": {},
   "outputs": [
    {
     "name": "stdout",
     "output_type": "stream",
     "text": [
      "4\n",
      "3\n",
      "6\n",
      "2\n",
      "1\n",
      "8\n",
      "3\n",
      "4\n",
      "5\n",
      "9\n",
      "4\n",
      "2\n",
      "7\n",
      "6\n",
      "1\n",
      "\n",
      "4\n",
      "3\n",
      "6\n",
      "2\n",
      "1\n",
      "8\n",
      "3\n",
      "4\n",
      "5\n",
      "9\n",
      "4\n",
      "2\n",
      "7\n",
      "6\n",
      "1\n",
      "\n",
      "4\n",
      "3\n",
      "6\n",
      "2\n",
      "1\n",
      "8\n",
      "3\n",
      "4\n",
      "5\n",
      "9\n",
      "4\n",
      "2\n",
      "7\n",
      "6\n",
      "1\n",
      "\n"
     ]
    }
   ],
   "source": [
    "arr3 = np.array([\n",
    "    [[4,3,6,2,1],[8,3,4,5,9], [4,2,7,6,1]],\n",
    "    [[4,3,6,2,1],[8,3,4,5,9], [4,2,7,6,1]],\n",
    "    [[4,3,6,2,1],[8,3,4,5,9], [4,2,7,6,1]]\n",
    "])\n",
    "\n",
    "for row in arr3:\n",
    "    for _row in row:\n",
    "#         print(_row)\n",
    "        for item in _row:\n",
    "            print(item)\n",
    "    print()"
   ]
  },
  {
   "cell_type": "code",
   "execution_count": 68,
   "id": "1ff4725e",
   "metadata": {},
   "outputs": [
    {
     "name": "stdout",
     "output_type": "stream",
     "text": [
      "16\n",
      "1\n",
      "[3 2 2 1 2 3 4 5 6 5 4 3 5 6 7 8]\n"
     ]
    }
   ],
   "source": [
    "# Reshape (1D->2D->3D->1D)\n",
    "arr4 = np.array([3,2,2,1,2,3,4,5,6,5,4,3,5,6,7,8])\n",
    "print(len(arr4))\n",
    "print(len(arr4.shape))\n",
    "\n",
    "arr5 = arr4.reshape(2,8)\n",
    "arr6 = arr4.reshape(2,2,4)\n",
    "print(arr5.reshape(16))"
   ]
  },
  {
   "cell_type": "code",
   "execution_count": 83,
   "id": "23fa3698",
   "metadata": {},
   "outputs": [
    {
     "name": "stdout",
     "output_type": "stream",
     "text": [
      "[ 1  2  3  4  5  6  7  8  9 10 11 12 13 14 15 16]\n",
      "[[1. 1. 1. 1. 1. 1. 1. 1.]\n",
      " [1. 1. 1. 1. 1. 1. 1. 1.]]\n",
      "[[[0. 0.]\n",
      "  [0. 0.]\n",
      "  [0. 0.]\n",
      "  [0. 0.]]\n",
      "\n",
      " [[0. 0.]\n",
      "  [0. 0.]\n",
      "  [0. 0.]\n",
      "  [0. 0.]]]\n"
     ]
    }
   ],
   "source": [
    "# Creating Array\n",
    "arr1 = np.arange(1, 17)\n",
    "print(arr1)\n",
    "\n",
    "arr1 = np.ones(16)\n",
    "print(arr1.reshape(2,8))\n",
    "\n",
    "arr1 = np.zeros(16)\n",
    "print(arr1.reshape(2,4,2))\n"
   ]
  },
  {
   "cell_type": "code",
   "execution_count": 84,
   "id": "e7dca268",
   "metadata": {},
   "outputs": [],
   "source": [
    "# Importing data from csv\n",
    "# sample_data.csv\n",
    "# sales_data_sample.csv"
   ]
  },
  {
   "cell_type": "code",
   "execution_count": 15,
   "id": "1f8b9591",
   "metadata": {},
   "outputs": [
    {
     "name": "stdout",
     "output_type": "stream",
     "text": [
      "7897\n",
      "2\n"
     ]
    }
   ],
   "source": [
    "# Loading csv data into numpy array\n",
    "import csv\n",
    "import numpy as np\n",
    "data1 = []\n",
    "\n",
    "\"\"\"\n",
    "csvfile1 = open(\"sample_data.csv\", \"r\")\n",
    "reader1 = csv.reader(csvfile1)\n",
    "print(reader1)\n",
    "\"\"\"\n",
    "\n",
    "with open(\"sample_data.csv\", \"r\") as csvfile2:\n",
    "    reader2 = csv.reader(csvfile2)\n",
    "    for row in reader2:\n",
    "        data1.append(row)\n",
    "    # print(type(data1))\n",
    "    # convert list to numpyarray\n",
    "    arr1 = np.array(data1)\n",
    "    print(len(arr1)) # No of records\n",
    "    print(len(arr1.shape)) # Shape of arr1\n",
    "    # Columns ?"
   ]
  },
  {
   "cell_type": "code",
   "execution_count": 24,
   "id": "78e0052a",
   "metadata": {},
   "outputs": [
    {
     "name": "stdout",
     "output_type": "stream",
     "text": [
      "['MSN' 'YYYYMM' 'Value' 'Column_Order' 'Description' 'Unit']\n",
      "6\n",
      "7897\n"
     ]
    }
   ],
   "source": [
    "heading_row = arr1[0] \n",
    "print(heading_row) # Heading Row\n",
    "print(len(heading_row)) # 6 Columns\n",
    "print(len(arr1)) # arr1[0] rows"
   ]
  },
  {
   "cell_type": "code",
   "execution_count": 50,
   "id": "0cb646f7",
   "metadata": {},
   "outputs": [
    {
     "name": "stdout",
     "output_type": "stream",
     "text": [
      "[['MSN' 'YYYYMM' 'Value' 'Column_Order' 'Description' 'Unit']\n",
      " ['FFPRBUS' '194913' '28.740479' '1' 'Total Fossil Fuels Production'\n",
      "  'Quadrillion Btu']\n",
      " ['FFPRBUS' '195013' '32.553205' '1' 'Total Fossil Fuels Production'\n",
      "  'Quadrillion Btu']\n",
      " ...\n",
      " ['TETCBUS' '202108' '8.480574' '12' 'Total Primary Energy Consumption'\n",
      "  'Quadrillion Btu']\n",
      " ['TETCBUS' '202109' '7.702097' '12' 'Total Primary Energy Consumption'\n",
      "  'Quadrillion Btu']\n",
      " ['TETCBUS' '202110' '7.693804' '12' 'Total Primary Energy Consumption'\n",
      "  'Quadrillion Btu']]\n"
     ]
    }
   ],
   "source": [
    "# Exporting data (save on file)\n",
    "np.save(open('data1.npy','wb'), arr1)\n",
    "\n",
    "# Read data from data1.npy file?\n",
    "# Home Work\n",
    "arr2 = np.load('data1.npy')\n",
    "print(arr2)"
   ]
  },
  {
   "cell_type": "code",
   "execution_count": 47,
   "id": "b3f9e484",
   "metadata": {},
   "outputs": [
    {
     "name": "stdout",
     "output_type": "stream",
     "text": [
      "['MSN' 'YYYYMM' 'Value' 'Column_Order' 'Description' 'Unit']\n",
      "['YYYYMM' '194913' '195013' ... '202108' '202109' '202110']\n"
     ]
    }
   ],
   "source": [
    "# Explore Data (VVIP) -> Slicing\n",
    "# print(arr1[:])\n",
    "# print(arr1[0:7000]) # Rows\n",
    "print(arr1[0, :]) # First row with all columns\n",
    "print(arr1[:, 1]) # first column all rows"
   ]
  },
  {
   "cell_type": "code",
   "execution_count": 6,
   "id": "de776996",
   "metadata": {},
   "outputs": [
    {
     "name": "stdout",
     "output_type": "stream",
     "text": [
      "7897\n"
     ]
    }
   ],
   "source": [
    "# Subset (Slicing)\n",
    "import csv\n",
    "import numpy as np\n",
    "data1 = []\n",
    "csvfile1 = open(\"sample_data.csv\", \"r\")\n",
    "reader1 = csv.reader(csvfile1)\n",
    "for row in reader1:\n",
    "    data1.append(row)\n",
    "arr1 = np.array(data1)\n",
    "arr2 = arr1[:, 2:4]\n",
    "print(len(arr2))"
   ]
  },
  {
   "cell_type": "code",
   "execution_count": 13,
   "id": "4ee8612e",
   "metadata": {},
   "outputs": [
    {
     "name": "stdout",
     "output_type": "stream",
     "text": [
      "[1 2 3 4 5 6]\n",
      "\n",
      "[[1 2 3 2 3 4]\n",
      " [4 5 6 7 8 9]]\n"
     ]
    }
   ],
   "source": [
    "# Join\n",
    "\n",
    "# 1D\n",
    "arr1 = np.array([1, 2, 3])\n",
    "arr2 = np.array([4, 5, 6])\n",
    "arr3 = np.concatenate((arr1, arr2))\n",
    "print(arr3)\n",
    "print()\n",
    "\n",
    "# 2D\n",
    "arr1 = np.array([[1,2,3],[4,5,6]])\n",
    "arr2 = np.array([[2,3,4],[7,8,9]])\n",
    "arr3 = np.concatenate((arr1, arr2), axis=1)\n",
    "print(arr3)\n",
    "\n",
    "# 3D ?\n"
   ]
  },
  {
   "cell_type": "code",
   "execution_count": 15,
   "id": "ca9480e4",
   "metadata": {},
   "outputs": [
    {
     "name": "stdout",
     "output_type": "stream",
     "text": [
      "[array([5, 6]), array([7, 8]), array([9]), array([4])]\n"
     ]
    }
   ],
   "source": [
    "# Split\n",
    "arr1 = np.array([5,6,7,8,9,4])\n",
    "arr2 = np.array_split(arr1, 4)\n",
    "print(arr2)"
   ]
  },
  {
   "cell_type": "code",
   "execution_count": 28,
   "id": "1317cd6e",
   "metadata": {},
   "outputs": [
    {
     "name": "stdout",
     "output_type": "stream",
     "text": [
      "found at: 2  index\n",
      "Not found\n"
     ]
    }
   ],
   "source": [
    "# Search\n",
    "arr1 = np.array([5,6,7,8,9,4])\n",
    "result1 = np.where(arr1==7)\n",
    "# print(result1)\n",
    "if(len(result1[0])):\n",
    "    print(\"found at:\", result1[0][0], \" index\")\n",
    "\n",
    "result1 = np.where(arr1==10)\n",
    "# print(result1)\n",
    "if(len(result1[0])):\n",
    "    print(result1[0][0])\n",
    "else:\n",
    "    print(\"Not found\")"
   ]
  },
  {
   "cell_type": "code",
   "execution_count": 29,
   "id": "70bd6f79",
   "metadata": {},
   "outputs": [
    {
     "name": "stdout",
     "output_type": "stream",
     "text": [
      "[False False  True  True  True False]\n"
     ]
    }
   ],
   "source": [
    "# Filter\n",
    "arr1 = np.array([5,6,7,8,9,4])\n",
    "arr2 = arr1 > 6\n",
    "print(arr2)"
   ]
  },
  {
   "cell_type": "code",
   "execution_count": 139,
   "id": "df02f82a",
   "metadata": {},
   "outputs": [
    {
     "name": "stdout",
     "output_type": "stream",
     "text": [
      "3\n",
      "0.6007518802419269\n",
      "[6 5 6 6 3 3 6 6 3 6 6 3 5 6 6 6 5 3 5 6 5 6 6 5 3 6 5 6 6 3 6 6 5 6 6 5 6\n",
      " 6 6 3 3 3 5 5 6 5 6 6 6 5 5 5 3 6 5 6 5 6 5 5 5 6 5 6 5 6 6 5 6 3 6 6 5 3\n",
      " 5 6 5 3 6 6 6 6 5 3 5 6 6 5 5 6 6 5 5 6 6 5 6 5 5 6]\n"
     ]
    }
   ],
   "source": [
    "# Random number\n",
    "from numpy import random\n",
    "\n",
    "rn1 = random.randint(10) # int\n",
    "print(rn1)\n",
    "\n",
    "rn2 = random.rand() # float\n",
    "print(rn2)\n",
    "# print(int(rn2*10)) # float -> int\n",
    "\n",
    "rn3 = random.choice([3,5,6,7,], p=[0.1, 0.3, 0.6, 0.0], size=(100))\n",
    "print(rn3)"
   ]
  },
  {
   "cell_type": "code",
   "execution_count": 143,
   "id": "5213e5c6",
   "metadata": {},
   "outputs": [
    {
     "name": "stdout",
     "output_type": "stream",
     "text": [
      "[ 5  6  7  8  9 10]\n",
      "[ 9  7  8  5 10  6]\n"
     ]
    }
   ],
   "source": [
    "# Shuffling\n",
    "arr1 = np.array([5,6,7,8,9,10])\n",
    "print(arr1)\n",
    "random.shuffle(arr1)\n",
    "print(arr1)"
   ]
  },
  {
   "cell_type": "code",
   "execution_count": 2,
   "id": "c922d13d",
   "metadata": {},
   "outputs": [],
   "source": [
    "# Ploting -> Graphs -> Chart\n",
    "# Plotting Library (Chart)   \n",
    "    # matplotlib\n",
    "    # seaborn # pip install seaborn"
   ]
  },
  {
   "cell_type": "code",
   "execution_count": 12,
   "id": "e823275a",
   "metadata": {},
   "outputs": [],
   "source": [
    "# matplotlib\n",
    "import numpy as np\n",
    "from matplotlib import pyplot as plt"
   ]
  },
  {
   "cell_type": "code",
   "execution_count": 15,
   "id": "a48ac5f0",
   "metadata": {},
   "outputs": [
    {
     "data": {
      "image/png": "[encoded data removed]",
      "text/plain": [
       "<Figure size 432x288 with 1 Axes>"
      ]
     },
     "metadata": {
      "needs_background": "light"
     },
     "output_type": "display_data"
    }
   ],
   "source": [
    "# Example-1\n",
    "arr1 = np.arange(1, 11) # Natural Data\n",
    "arr2 = 2*arr1 + 7 # Natural Data\n",
    "# print(arr1)\n",
    "# print(arr2)\n",
    "# plt.plot(arr1, arr2) # Line\n",
    "plt.plot(arr1, arr2, \"ob\") # Point\n",
    "plt.title(\"Chart-1\")\n",
    "plt.xlabel(\"No of Students\")\n",
    "plt.ylabel(\"Age of Student\")\n",
    "plt.show()"
   ]
  },
  {
   "cell_type": "code",
   "execution_count": 18,
   "id": "67682a69",
   "metadata": {},
   "outputs": [
    {
     "data": {
      "image/png": "[encoded data removed]",
      "text/plain": [
       "<Figure size 432x288 with 1 Axes>"
      ]
     },
     "metadata": {
      "needs_background": "light"
     },
     "output_type": "display_data"
    }
   ],
   "source": [
    "# Example-2\n",
    "x1 = [5,6,7,8,10]\n",
    "y1 = [9,3,5,6,12]\n",
    "\n",
    "x2 = [4,5,3,4,2]\n",
    "y2 = [8,7,5,3,6]\n",
    "\n",
    "plt.title(\"Bar Chart-1\")\n",
    "plt.ylabel(\"Age of Students\")\n",
    "plt.xlabel(\"No of Students\")\n",
    "plt.bar(x1,y1)\n",
    "plt.bar(x2, y2)\n",
    "plt.show()"
   ]
  },
  {
   "cell_type": "code",
   "execution_count": 21,
   "id": "a79c64fa",
   "metadata": {},
   "outputs": [
    {
     "data": {
      "image/png": "[encoded data removed]",
      "text/plain": [
       "<Figure size 432x288 with 1 Axes>"
      ]
     },
     "metadata": {
      "needs_background": "light"
     },
     "output_type": "display_data"
    }
   ],
   "source": [
    "# Example-3\n",
    "x1 = [5,6,7,8,10]\n",
    "y1 = [9,3,5,6,12]\n",
    "\n",
    "x2 = [4,5,3,4,2]\n",
    "y2 = [8,7,5,3,6]\n",
    "\n",
    "plt.title(\"Bar Chart-1\")\n",
    "plt.ylabel(\"Age of Students\")\n",
    "plt.xlabel(\"No of Students\")\n",
    "plt.bar(x1,y1)\n",
    "plt.bar(x2, y2)\n",
    "plt.legend(['Group1','Group2'])\n",
    "plt.show()"
   ]
  },
  {
   "cell_type": "code",
   "execution_count": 24,
   "id": "efc30ba9",
   "metadata": {},
   "outputs": [
    {
     "data": {
      "image/png": "[encoded data removed]",
      "text/plain": [
       "<Figure size 432x288 with 1 Axes>"
      ]
     },
     "metadata": {
      "needs_background": "light"
     },
     "output_type": "display_data"
    }
   ],
   "source": [
    "# Example-4\n",
    "x1 = [5,6,7,8,10]\n",
    "y1 = [9,3,5,6,12]\n",
    "x2 = [4,5,3,4,2]\n",
    "y2 = [8,7,5,3,6]\n",
    "\n",
    "plt.title(\"Line Chart-1\")\n",
    "plt.plot(x1)\n",
    "plt.plot(y1)\n",
    "plt.plot(x2)\n",
    "plt.plot(y2)\n",
    "plt.legend(['Group1','Group2','Group3','Group4'])\n",
    "plt.show()"
   ]
  },
  {
   "cell_type": "code",
   "execution_count": 27,
   "id": "f2c7b324",
   "metadata": {},
   "outputs": [
    {
     "data": {
      "image/png": "[encoded data removed]",
      "text/plain": [
       "<Figure size 432x288 with 1 Axes>"
      ]
     },
     "metadata": {
      "needs_background": "light"
     },
     "output_type": "display_data"
    }
   ],
   "source": [
    "# Example-5\n",
    "x1 = [5,6,7,8,10]\n",
    "y1 = [9,3,5,6,12]\n",
    "x2 = [4,5,3,4,2]\n",
    "y2 = [8,7,5,3,6]\n",
    "\n",
    "plt.title(\"Line Chart-1\")\n",
    "plt.plot(x1)\n",
    "plt.plot(y1)\n",
    "plt.plot(x2)\n",
    "plt.plot(y2)\n",
    "plt.legend(['Group1','Group2','Group3','Group4'])\n",
    "plt.savefig('chart1.jpg') # Save to file\n",
    "plt.show()\n"
   ]
  },
  {
   "cell_type": "code",
   "execution_count": 31,
   "id": "d2461f58",
   "metadata": {},
   "outputs": [],
   "source": [
    "# seaborn\n",
    "import seaborn as sbn\n",
    "from matplotlib import pyplot as plt"
   ]
  },
  {
   "cell_type": "code",
   "execution_count": 32,
   "id": "3b981249",
   "metadata": {},
   "outputs": [
    {
     "name": "stderr",
     "output_type": "stream",
     "text": [
      "d:\\python\\pythondjango-4\\corepython-4\\venv\\lib\\site-packages\\seaborn\\distributions.py:2619: FutureWarning: `distplot` is a deprecated function and will be removed in a future version. Please adapt your code to use either `displot` (a figure-level function with similar flexibility) or `histplot` (an axes-level function for histograms).\n",
      "  warnings.warn(msg, FutureWarning)\n"
     ]
    },
    {
     "data": {
      "image/png": "[encoded data removed]",
      "text/plain": [
       "<Figure size 432x288 with 1 Axes>"
      ]
     },
     "metadata": {
      "needs_background": "light"
     },
     "output_type": "display_data"
    }
   ],
   "source": [
    "# Example-1\n",
    "x1 = [4,5,6,7,8,9]\n",
    "sbn.distplot(x1)\n",
    "plt.show()"
   ]
  },
  {
   "cell_type": "code",
   "execution_count": null,
   "id": "f2e01626",
   "metadata": {},
   "outputs": [],
   "source": [
    "# Pandas (Dataframe) -> Seaborn (Chart)"
   ]
  },
  {
   "cell_type": "code",
   "execution_count": 33,
   "id": "0edcb429",
   "metadata": {},
   "outputs": [],
   "source": [
    "# Numpy Array\n",
    "    # Core Mathematics\n",
    "        # Distribution\n",
    "        # Universal Functions"
   ]
  }
 ],
 "metadata": {
  "kernelspec": {
   "display_name": "Python 3 (ipykernel)",
   "language": "python",
   "name": "python3"
  },
  "language_info": {
   "codemirror_mode": {
    "name": "ipython",
    "version": 3
   },
   "file_extension": ".py",
   "mimetype": "text/x-python",
   "name": "python",
   "nbconvert_exporter": "python",
   "pygments_lexer": "ipython3",
   "version": "3.10.2"
  }
 },
 "nbformat": 4,
 "nbformat_minor": 5
}
